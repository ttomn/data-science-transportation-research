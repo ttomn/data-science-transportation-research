{
 "cells": [
  {
   "cell_type": "code",
   "execution_count": 11,
   "metadata": {
    "collapsed": true
   },
   "outputs": [],
   "source": [
    "import pandas as pd\n",
    "import numpy as np\n",
    "import statsmodels.api as sm\n",
    "from sklearn.model_selection import train_test_split\n",
    "from utils import ours_read_csv\n",
    "from sklearn.metrics import mean_squared_error\n",
    "\n",
    "\n",
    "DIR_PATH_TOM = \"C:\\\\Users\\\\ttomn\\\\OneDrive\\\\Desktop\\\\data-science-transportation-research\""
   ]
  },
  {
   "cell_type": "code",
   "execution_count": 2,
   "outputs": [],
   "source": [
    "file_name = \"10000_streets_final_df.csv\""
   ],
   "metadata": {
    "collapsed": false,
    "pycharm": {
     "name": "#%%\n"
    }
   }
  },
  {
   "cell_type": "code",
   "execution_count": 3,
   "outputs": [
    {
     "data": {
      "text/plain": "         ST_INDEX                                           the_geom  MONTH  \\\n0              12  MULTILINESTRING ((-74.01213630770864 40.692040...      1   \n1              12  MULTILINESTRING ((-74.01213630770864 40.692040...      2   \n2              12  MULTILINESTRING ((-74.01213630770864 40.692040...      3   \n3              12  MULTILINESTRING ((-74.01213630770864 40.692040...      4   \n4              12  MULTILINESTRING ((-74.01213630770864 40.692040...      5   \n...           ...                                                ...    ...   \n1286663    121095  MULTILINESTRING ((-73.88110596307965 40.567784...     10   \n1286664    121095  MULTILINESTRING ((-73.88110596307965 40.567784...     11   \n1286665    121095  MULTILINESTRING ((-73.88110596307965 40.567784...     12   \n1286666    121095  MULTILINESTRING ((-73.88110596307965 40.567784...      1   \n1286667    121095  MULTILINESTRING ((-73.88110596307965 40.567784...      2   \n\n         YEAR  COLLISIONS  Residential  Education  Cultural  Recreational  \\\n0        2012         0.0          0.0        0.0       0.0           0.0   \n1        2012         0.0          0.0        0.0       0.0           0.0   \n2        2012         0.0          0.0        0.0       0.0           0.0   \n3        2012         0.0          0.0        0.0       0.0           0.0   \n4        2012         0.0          0.0        0.0       0.0           0.0   \n...       ...         ...          ...        ...       ...           ...   \n1286663  2022         0.0          0.0        0.0       0.0           0.0   \n1286664  2022         0.0          0.0        0.0       0.0           0.0   \n1286665  2022         0.0          0.0        0.0       0.0           0.0   \n1286666  2023         0.0          0.0        0.0       0.0           0.0   \n1286667  2023         0.0          0.0        0.0       0.0           0.0   \n\n         Social Services  ...  Bridge  Tunnel  Boardwalk  PathTrail  \\\n0                    0.0  ...       0       1          0          0   \n1                    0.0  ...       0       1          0          0   \n2                    0.0  ...       0       1          0          0   \n3                    0.0  ...       0       1          0          0   \n4                    0.0  ...       0       1          0          0   \n...                  ...  ...     ...     ...        ...        ...   \n1286663              0.0  ...       0       0          0          0   \n1286664              0.0  ...       0       0          0          0   \n1286665              0.0  ...       0       0          0          0   \n1286666              0.0  ...       0       0          0          0   \n1286667              0.0  ...       0       0          0          0   \n\n         StepStreet  Driveway  Ramp  Alley  U-Turn  FerryRoute  \n0                 0         0     0      0       0           0  \n1                 0         0     0      0       0           0  \n2                 0         0     0      0       0           0  \n3                 0         0     0      0       0           0  \n4                 0         0     0      0       0           0  \n...             ...       ...   ...    ...     ...         ...  \n1286663           0         0     1      0       0           0  \n1286664           0         0     1      0       0           0  \n1286665           0         0     1      0       0           0  \n1286666           0         0     1      0       0           0  \n1286667           0         0     1      0       0           0  \n\n[1286668 rows x 42 columns]",
      "text/html": "<div>\n<style scoped>\n    .dataframe tbody tr th:only-of-type {\n        vertical-align: middle;\n    }\n\n    .dataframe tbody tr th {\n        vertical-align: top;\n    }\n\n    .dataframe thead th {\n        text-align: right;\n    }\n</style>\n<table border=\"1\" class=\"dataframe\">\n  <thead>\n    <tr style=\"text-align: right;\">\n      <th></th>\n      <th>ST_INDEX</th>\n      <th>the_geom</th>\n      <th>MONTH</th>\n      <th>YEAR</th>\n      <th>COLLISIONS</th>\n      <th>Residential</th>\n      <th>Education</th>\n      <th>Cultural</th>\n      <th>Recreational</th>\n      <th>Social Services</th>\n      <th>...</th>\n      <th>Bridge</th>\n      <th>Tunnel</th>\n      <th>Boardwalk</th>\n      <th>PathTrail</th>\n      <th>StepStreet</th>\n      <th>Driveway</th>\n      <th>Ramp</th>\n      <th>Alley</th>\n      <th>U-Turn</th>\n      <th>FerryRoute</th>\n    </tr>\n  </thead>\n  <tbody>\n    <tr>\n      <th>0</th>\n      <td>12</td>\n      <td>MULTILINESTRING ((-74.01213630770864 40.692040...</td>\n      <td>1</td>\n      <td>2012</td>\n      <td>0.0</td>\n      <td>0.0</td>\n      <td>0.0</td>\n      <td>0.0</td>\n      <td>0.0</td>\n      <td>0.0</td>\n      <td>...</td>\n      <td>0</td>\n      <td>1</td>\n      <td>0</td>\n      <td>0</td>\n      <td>0</td>\n      <td>0</td>\n      <td>0</td>\n      <td>0</td>\n      <td>0</td>\n      <td>0</td>\n    </tr>\n    <tr>\n      <th>1</th>\n      <td>12</td>\n      <td>MULTILINESTRING ((-74.01213630770864 40.692040...</td>\n      <td>2</td>\n      <td>2012</td>\n      <td>0.0</td>\n      <td>0.0</td>\n      <td>0.0</td>\n      <td>0.0</td>\n      <td>0.0</td>\n      <td>0.0</td>\n      <td>...</td>\n      <td>0</td>\n      <td>1</td>\n      <td>0</td>\n      <td>0</td>\n      <td>0</td>\n      <td>0</td>\n      <td>0</td>\n      <td>0</td>\n      <td>0</td>\n      <td>0</td>\n    </tr>\n    <tr>\n      <th>2</th>\n      <td>12</td>\n      <td>MULTILINESTRING ((-74.01213630770864 40.692040...</td>\n      <td>3</td>\n      <td>2012</td>\n      <td>0.0</td>\n      <td>0.0</td>\n      <td>0.0</td>\n      <td>0.0</td>\n      <td>0.0</td>\n      <td>0.0</td>\n      <td>...</td>\n      <td>0</td>\n      <td>1</td>\n      <td>0</td>\n      <td>0</td>\n      <td>0</td>\n      <td>0</td>\n      <td>0</td>\n      <td>0</td>\n      <td>0</td>\n      <td>0</td>\n    </tr>\n    <tr>\n      <th>3</th>\n      <td>12</td>\n      <td>MULTILINESTRING ((-74.01213630770864 40.692040...</td>\n      <td>4</td>\n      <td>2012</td>\n      <td>0.0</td>\n      <td>0.0</td>\n      <td>0.0</td>\n      <td>0.0</td>\n      <td>0.0</td>\n      <td>0.0</td>\n      <td>...</td>\n      <td>0</td>\n      <td>1</td>\n      <td>0</td>\n      <td>0</td>\n      <td>0</td>\n      <td>0</td>\n      <td>0</td>\n      <td>0</td>\n      <td>0</td>\n      <td>0</td>\n    </tr>\n    <tr>\n      <th>4</th>\n      <td>12</td>\n      <td>MULTILINESTRING ((-74.01213630770864 40.692040...</td>\n      <td>5</td>\n      <td>2012</td>\n      <td>0.0</td>\n      <td>0.0</td>\n      <td>0.0</td>\n      <td>0.0</td>\n      <td>0.0</td>\n      <td>0.0</td>\n      <td>...</td>\n      <td>0</td>\n      <td>1</td>\n      <td>0</td>\n      <td>0</td>\n      <td>0</td>\n      <td>0</td>\n      <td>0</td>\n      <td>0</td>\n      <td>0</td>\n      <td>0</td>\n    </tr>\n    <tr>\n      <th>...</th>\n      <td>...</td>\n      <td>...</td>\n      <td>...</td>\n      <td>...</td>\n      <td>...</td>\n      <td>...</td>\n      <td>...</td>\n      <td>...</td>\n      <td>...</td>\n      <td>...</td>\n      <td>...</td>\n      <td>...</td>\n      <td>...</td>\n      <td>...</td>\n      <td>...</td>\n      <td>...</td>\n      <td>...</td>\n      <td>...</td>\n      <td>...</td>\n      <td>...</td>\n      <td>...</td>\n    </tr>\n    <tr>\n      <th>1286663</th>\n      <td>121095</td>\n      <td>MULTILINESTRING ((-73.88110596307965 40.567784...</td>\n      <td>10</td>\n      <td>2022</td>\n      <td>0.0</td>\n      <td>0.0</td>\n      <td>0.0</td>\n      <td>0.0</td>\n      <td>0.0</td>\n      <td>0.0</td>\n      <td>...</td>\n      <td>0</td>\n      <td>0</td>\n      <td>0</td>\n      <td>0</td>\n      <td>0</td>\n      <td>0</td>\n      <td>1</td>\n      <td>0</td>\n      <td>0</td>\n      <td>0</td>\n    </tr>\n    <tr>\n      <th>1286664</th>\n      <td>121095</td>\n      <td>MULTILINESTRING ((-73.88110596307965 40.567784...</td>\n      <td>11</td>\n      <td>2022</td>\n      <td>0.0</td>\n      <td>0.0</td>\n      <td>0.0</td>\n      <td>0.0</td>\n      <td>0.0</td>\n      <td>0.0</td>\n      <td>...</td>\n      <td>0</td>\n      <td>0</td>\n      <td>0</td>\n      <td>0</td>\n      <td>0</td>\n      <td>0</td>\n      <td>1</td>\n      <td>0</td>\n      <td>0</td>\n      <td>0</td>\n    </tr>\n    <tr>\n      <th>1286665</th>\n      <td>121095</td>\n      <td>MULTILINESTRING ((-73.88110596307965 40.567784...</td>\n      <td>12</td>\n      <td>2022</td>\n      <td>0.0</td>\n      <td>0.0</td>\n      <td>0.0</td>\n      <td>0.0</td>\n      <td>0.0</td>\n      <td>0.0</td>\n      <td>...</td>\n      <td>0</td>\n      <td>0</td>\n      <td>0</td>\n      <td>0</td>\n      <td>0</td>\n      <td>0</td>\n      <td>1</td>\n      <td>0</td>\n      <td>0</td>\n      <td>0</td>\n    </tr>\n    <tr>\n      <th>1286666</th>\n      <td>121095</td>\n      <td>MULTILINESTRING ((-73.88110596307965 40.567784...</td>\n      <td>1</td>\n      <td>2023</td>\n      <td>0.0</td>\n      <td>0.0</td>\n      <td>0.0</td>\n      <td>0.0</td>\n      <td>0.0</td>\n      <td>0.0</td>\n      <td>...</td>\n      <td>0</td>\n      <td>0</td>\n      <td>0</td>\n      <td>0</td>\n      <td>0</td>\n      <td>0</td>\n      <td>1</td>\n      <td>0</td>\n      <td>0</td>\n      <td>0</td>\n    </tr>\n    <tr>\n      <th>1286667</th>\n      <td>121095</td>\n      <td>MULTILINESTRING ((-73.88110596307965 40.567784...</td>\n      <td>2</td>\n      <td>2023</td>\n      <td>0.0</td>\n      <td>0.0</td>\n      <td>0.0</td>\n      <td>0.0</td>\n      <td>0.0</td>\n      <td>0.0</td>\n      <td>...</td>\n      <td>0</td>\n      <td>0</td>\n      <td>0</td>\n      <td>0</td>\n      <td>0</td>\n      <td>0</td>\n      <td>1</td>\n      <td>0</td>\n      <td>0</td>\n      <td>0</td>\n    </tr>\n  </tbody>\n</table>\n<p>1286668 rows × 42 columns</p>\n</div>"
     },
     "execution_count": 3,
     "metadata": {},
     "output_type": "execute_result"
    }
   ],
   "source": [
    "df = ours_read_csv(f\"{DIR_PATH_TOM}\\\\{file_name}\")\n",
    "df"
   ],
   "metadata": {
    "collapsed": false,
    "pycharm": {
     "name": "#%%\n"
    }
   }
  },
  {
   "cell_type": "code",
   "execution_count": 5,
   "outputs": [
    {
     "ename": "KeyError",
     "evalue": "\"['the_geom', 'ST_INDEX'] not found in axis\"",
     "output_type": "error",
     "traceback": [
      "\u001B[1;31m---------------------------------------------------------------------------\u001B[0m",
      "\u001B[1;31mKeyError\u001B[0m                                  Traceback (most recent call last)",
      "Cell \u001B[1;32mIn[5], line 1\u001B[0m\n\u001B[1;32m----> 1\u001B[0m df \u001B[38;5;241m=\u001B[39m \u001B[43mdf\u001B[49m\u001B[38;5;241;43m.\u001B[39;49m\u001B[43mdrop\u001B[49m\u001B[43m(\u001B[49m\u001B[43mcolumns\u001B[49m\u001B[38;5;241;43m=\u001B[39;49m\u001B[43m[\u001B[49m\u001B[38;5;124;43m\"\u001B[39;49m\u001B[38;5;124;43mthe_geom\u001B[39;49m\u001B[38;5;124;43m\"\u001B[39;49m\u001B[43m,\u001B[49m\u001B[43m \u001B[49m\u001B[38;5;124;43m\"\u001B[39;49m\u001B[38;5;124;43mST_INDEX\u001B[39;49m\u001B[38;5;124;43m\"\u001B[39;49m\u001B[43m]\u001B[49m\u001B[43m)\u001B[49m\n",
      "File \u001B[1;32mc:\\users\\ttomn\\onedrive\\desktop\\data-science-transportation-research\\venv\\lib\\site-packages\\pandas\\util\\_decorators.py:331\u001B[0m, in \u001B[0;36mdeprecate_nonkeyword_arguments.<locals>.decorate.<locals>.wrapper\u001B[1;34m(*args, **kwargs)\u001B[0m\n\u001B[0;32m    325\u001B[0m \u001B[38;5;28;01mif\u001B[39;00m \u001B[38;5;28mlen\u001B[39m(args) \u001B[38;5;241m>\u001B[39m num_allow_args:\n\u001B[0;32m    326\u001B[0m     warnings\u001B[38;5;241m.\u001B[39mwarn(\n\u001B[0;32m    327\u001B[0m         msg\u001B[38;5;241m.\u001B[39mformat(arguments\u001B[38;5;241m=\u001B[39m_format_argument_list(allow_args)),\n\u001B[0;32m    328\u001B[0m         \u001B[38;5;167;01mFutureWarning\u001B[39;00m,\n\u001B[0;32m    329\u001B[0m         stacklevel\u001B[38;5;241m=\u001B[39mfind_stack_level(),\n\u001B[0;32m    330\u001B[0m     )\n\u001B[1;32m--> 331\u001B[0m \u001B[38;5;28;01mreturn\u001B[39;00m func(\u001B[38;5;241m*\u001B[39margs, \u001B[38;5;241m*\u001B[39m\u001B[38;5;241m*\u001B[39mkwargs)\n",
      "File \u001B[1;32mc:\\users\\ttomn\\onedrive\\desktop\\data-science-transportation-research\\venv\\lib\\site-packages\\pandas\\core\\frame.py:5396\u001B[0m, in \u001B[0;36mDataFrame.drop\u001B[1;34m(self, labels, axis, index, columns, level, inplace, errors)\u001B[0m\n\u001B[0;32m   5248\u001B[0m \u001B[38;5;129m@deprecate_nonkeyword_arguments\u001B[39m(version\u001B[38;5;241m=\u001B[39m\u001B[38;5;28;01mNone\u001B[39;00m, allowed_args\u001B[38;5;241m=\u001B[39m[\u001B[38;5;124m\"\u001B[39m\u001B[38;5;124mself\u001B[39m\u001B[38;5;124m\"\u001B[39m, \u001B[38;5;124m\"\u001B[39m\u001B[38;5;124mlabels\u001B[39m\u001B[38;5;124m\"\u001B[39m])\n\u001B[0;32m   5249\u001B[0m \u001B[38;5;28;01mdef\u001B[39;00m \u001B[38;5;21mdrop\u001B[39m(  \u001B[38;5;66;03m# type: ignore[override]\u001B[39;00m\n\u001B[0;32m   5250\u001B[0m     \u001B[38;5;28mself\u001B[39m,\n\u001B[1;32m   (...)\u001B[0m\n\u001B[0;32m   5257\u001B[0m     errors: IgnoreRaise \u001B[38;5;241m=\u001B[39m \u001B[38;5;124m\"\u001B[39m\u001B[38;5;124mraise\u001B[39m\u001B[38;5;124m\"\u001B[39m,\n\u001B[0;32m   5258\u001B[0m ) \u001B[38;5;241m-\u001B[39m\u001B[38;5;241m>\u001B[39m DataFrame \u001B[38;5;241m|\u001B[39m \u001B[38;5;28;01mNone\u001B[39;00m:\n\u001B[0;32m   5259\u001B[0m     \u001B[38;5;124;03m\"\"\"\u001B[39;00m\n\u001B[0;32m   5260\u001B[0m \u001B[38;5;124;03m    Drop specified labels from rows or columns.\u001B[39;00m\n\u001B[0;32m   5261\u001B[0m \n\u001B[1;32m   (...)\u001B[0m\n\u001B[0;32m   5394\u001B[0m \u001B[38;5;124;03m            weight  1.0     0.8\u001B[39;00m\n\u001B[0;32m   5395\u001B[0m \u001B[38;5;124;03m    \"\"\"\u001B[39;00m\n\u001B[1;32m-> 5396\u001B[0m     \u001B[38;5;28;01mreturn\u001B[39;00m \u001B[38;5;28;43msuper\u001B[39;49m\u001B[43m(\u001B[49m\u001B[43m)\u001B[49m\u001B[38;5;241;43m.\u001B[39;49m\u001B[43mdrop\u001B[49m\u001B[43m(\u001B[49m\n\u001B[0;32m   5397\u001B[0m \u001B[43m        \u001B[49m\u001B[43mlabels\u001B[49m\u001B[38;5;241;43m=\u001B[39;49m\u001B[43mlabels\u001B[49m\u001B[43m,\u001B[49m\n\u001B[0;32m   5398\u001B[0m \u001B[43m        \u001B[49m\u001B[43maxis\u001B[49m\u001B[38;5;241;43m=\u001B[39;49m\u001B[43maxis\u001B[49m\u001B[43m,\u001B[49m\n\u001B[0;32m   5399\u001B[0m \u001B[43m        \u001B[49m\u001B[43mindex\u001B[49m\u001B[38;5;241;43m=\u001B[39;49m\u001B[43mindex\u001B[49m\u001B[43m,\u001B[49m\n\u001B[0;32m   5400\u001B[0m \u001B[43m        \u001B[49m\u001B[43mcolumns\u001B[49m\u001B[38;5;241;43m=\u001B[39;49m\u001B[43mcolumns\u001B[49m\u001B[43m,\u001B[49m\n\u001B[0;32m   5401\u001B[0m \u001B[43m        \u001B[49m\u001B[43mlevel\u001B[49m\u001B[38;5;241;43m=\u001B[39;49m\u001B[43mlevel\u001B[49m\u001B[43m,\u001B[49m\n\u001B[0;32m   5402\u001B[0m \u001B[43m        \u001B[49m\u001B[43minplace\u001B[49m\u001B[38;5;241;43m=\u001B[39;49m\u001B[43minplace\u001B[49m\u001B[43m,\u001B[49m\n\u001B[0;32m   5403\u001B[0m \u001B[43m        \u001B[49m\u001B[43merrors\u001B[49m\u001B[38;5;241;43m=\u001B[39;49m\u001B[43merrors\u001B[49m\u001B[43m,\u001B[49m\n\u001B[0;32m   5404\u001B[0m \u001B[43m    \u001B[49m\u001B[43m)\u001B[49m\n",
      "File \u001B[1;32mc:\\users\\ttomn\\onedrive\\desktop\\data-science-transportation-research\\venv\\lib\\site-packages\\pandas\\util\\_decorators.py:331\u001B[0m, in \u001B[0;36mdeprecate_nonkeyword_arguments.<locals>.decorate.<locals>.wrapper\u001B[1;34m(*args, **kwargs)\u001B[0m\n\u001B[0;32m    325\u001B[0m \u001B[38;5;28;01mif\u001B[39;00m \u001B[38;5;28mlen\u001B[39m(args) \u001B[38;5;241m>\u001B[39m num_allow_args:\n\u001B[0;32m    326\u001B[0m     warnings\u001B[38;5;241m.\u001B[39mwarn(\n\u001B[0;32m    327\u001B[0m         msg\u001B[38;5;241m.\u001B[39mformat(arguments\u001B[38;5;241m=\u001B[39m_format_argument_list(allow_args)),\n\u001B[0;32m    328\u001B[0m         \u001B[38;5;167;01mFutureWarning\u001B[39;00m,\n\u001B[0;32m    329\u001B[0m         stacklevel\u001B[38;5;241m=\u001B[39mfind_stack_level(),\n\u001B[0;32m    330\u001B[0m     )\n\u001B[1;32m--> 331\u001B[0m \u001B[38;5;28;01mreturn\u001B[39;00m func(\u001B[38;5;241m*\u001B[39margs, \u001B[38;5;241m*\u001B[39m\u001B[38;5;241m*\u001B[39mkwargs)\n",
      "File \u001B[1;32mc:\\users\\ttomn\\onedrive\\desktop\\data-science-transportation-research\\venv\\lib\\site-packages\\pandas\\core\\generic.py:4505\u001B[0m, in \u001B[0;36mNDFrame.drop\u001B[1;34m(self, labels, axis, index, columns, level, inplace, errors)\u001B[0m\n\u001B[0;32m   4503\u001B[0m \u001B[38;5;28;01mfor\u001B[39;00m axis, labels \u001B[38;5;129;01min\u001B[39;00m axes\u001B[38;5;241m.\u001B[39mitems():\n\u001B[0;32m   4504\u001B[0m     \u001B[38;5;28;01mif\u001B[39;00m labels \u001B[38;5;129;01mis\u001B[39;00m \u001B[38;5;129;01mnot\u001B[39;00m \u001B[38;5;28;01mNone\u001B[39;00m:\n\u001B[1;32m-> 4505\u001B[0m         obj \u001B[38;5;241m=\u001B[39m \u001B[43mobj\u001B[49m\u001B[38;5;241;43m.\u001B[39;49m\u001B[43m_drop_axis\u001B[49m\u001B[43m(\u001B[49m\u001B[43mlabels\u001B[49m\u001B[43m,\u001B[49m\u001B[43m \u001B[49m\u001B[43maxis\u001B[49m\u001B[43m,\u001B[49m\u001B[43m \u001B[49m\u001B[43mlevel\u001B[49m\u001B[38;5;241;43m=\u001B[39;49m\u001B[43mlevel\u001B[49m\u001B[43m,\u001B[49m\u001B[43m \u001B[49m\u001B[43merrors\u001B[49m\u001B[38;5;241;43m=\u001B[39;49m\u001B[43merrors\u001B[49m\u001B[43m)\u001B[49m\n\u001B[0;32m   4507\u001B[0m \u001B[38;5;28;01mif\u001B[39;00m inplace:\n\u001B[0;32m   4508\u001B[0m     \u001B[38;5;28mself\u001B[39m\u001B[38;5;241m.\u001B[39m_update_inplace(obj)\n",
      "File \u001B[1;32mc:\\users\\ttomn\\onedrive\\desktop\\data-science-transportation-research\\venv\\lib\\site-packages\\pandas\\core\\generic.py:4546\u001B[0m, in \u001B[0;36mNDFrame._drop_axis\u001B[1;34m(self, labels, axis, level, errors, only_slice)\u001B[0m\n\u001B[0;32m   4544\u001B[0m         new_axis \u001B[38;5;241m=\u001B[39m axis\u001B[38;5;241m.\u001B[39mdrop(labels, level\u001B[38;5;241m=\u001B[39mlevel, errors\u001B[38;5;241m=\u001B[39merrors)\n\u001B[0;32m   4545\u001B[0m     \u001B[38;5;28;01melse\u001B[39;00m:\n\u001B[1;32m-> 4546\u001B[0m         new_axis \u001B[38;5;241m=\u001B[39m \u001B[43maxis\u001B[49m\u001B[38;5;241;43m.\u001B[39;49m\u001B[43mdrop\u001B[49m\u001B[43m(\u001B[49m\u001B[43mlabels\u001B[49m\u001B[43m,\u001B[49m\u001B[43m \u001B[49m\u001B[43merrors\u001B[49m\u001B[38;5;241;43m=\u001B[39;49m\u001B[43merrors\u001B[49m\u001B[43m)\u001B[49m\n\u001B[0;32m   4547\u001B[0m     indexer \u001B[38;5;241m=\u001B[39m axis\u001B[38;5;241m.\u001B[39mget_indexer(new_axis)\n\u001B[0;32m   4549\u001B[0m \u001B[38;5;66;03m# Case for non-unique axis\u001B[39;00m\n\u001B[0;32m   4550\u001B[0m \u001B[38;5;28;01melse\u001B[39;00m:\n",
      "File \u001B[1;32mc:\\users\\ttomn\\onedrive\\desktop\\data-science-transportation-research\\venv\\lib\\site-packages\\pandas\\core\\indexes\\base.py:6977\u001B[0m, in \u001B[0;36mIndex.drop\u001B[1;34m(self, labels, errors)\u001B[0m\n\u001B[0;32m   6975\u001B[0m \u001B[38;5;28;01mif\u001B[39;00m mask\u001B[38;5;241m.\u001B[39many():\n\u001B[0;32m   6976\u001B[0m     \u001B[38;5;28;01mif\u001B[39;00m errors \u001B[38;5;241m!=\u001B[39m \u001B[38;5;124m\"\u001B[39m\u001B[38;5;124mignore\u001B[39m\u001B[38;5;124m\"\u001B[39m:\n\u001B[1;32m-> 6977\u001B[0m         \u001B[38;5;28;01mraise\u001B[39;00m \u001B[38;5;167;01mKeyError\u001B[39;00m(\u001B[38;5;124mf\u001B[39m\u001B[38;5;124m\"\u001B[39m\u001B[38;5;132;01m{\u001B[39;00m\u001B[38;5;28mlist\u001B[39m(labels[mask])\u001B[38;5;132;01m}\u001B[39;00m\u001B[38;5;124m not found in axis\u001B[39m\u001B[38;5;124m\"\u001B[39m)\n\u001B[0;32m   6978\u001B[0m     indexer \u001B[38;5;241m=\u001B[39m indexer[\u001B[38;5;241m~\u001B[39mmask]\n\u001B[0;32m   6979\u001B[0m \u001B[38;5;28;01mreturn\u001B[39;00m \u001B[38;5;28mself\u001B[39m\u001B[38;5;241m.\u001B[39mdelete(indexer)\n",
      "\u001B[1;31mKeyError\u001B[0m: \"['the_geom', 'ST_INDEX'] not found in axis\""
     ]
    }
   ],
   "source": [
    "df = df.drop(columns=[\"the_geom\", \"ST_INDEX\"])"
   ],
   "metadata": {
    "collapsed": false,
    "pycharm": {
     "name": "#%%\n"
    }
   }
  },
  {
   "cell_type": "code",
   "execution_count": 6,
   "outputs": [],
   "source": [
    "y = df.astype(np.float64)['COLLISIONS']\n",
    "X = df.astype(np.float64).drop('COLLISIONS', axis=1)\n",
    "X_train, X_test, y_train, y_test = train_test_split(X, y, test_size=0.25, random_state=4)"
   ],
   "metadata": {
    "collapsed": false,
    "pycharm": {
     "name": "#%%\n"
    }
   }
  },
  {
   "cell_type": "code",
   "execution_count": 7,
   "outputs": [
    {
     "name": "stdout",
     "output_type": "stream",
     "text": [
      "                 Generalized Linear Model Regression Results                  \n",
      "==============================================================================\n",
      "Dep. Variable:             COLLISIONS   No. Observations:               965001\n",
      "Model:                            GLM   Df Residuals:                   964962\n",
      "Model Family:        NegativeBinomial   Df Model:                           38\n",
      "Link Function:                    Log   Scale:                          1.0000\n",
      "Method:                          IRLS   Log-Likelihood:            -3.1158e+05\n",
      "Date:                Sat, 03 Jun 2023   Deviance:                   3.9948e+05\n",
      "Time:                        17:03:15   Pearson chi2:                 1.83e+06\n",
      "No. Iterations:                    29   Pseudo R-squ. (CS):            0.06602\n",
      "Covariance Type:            nonrobust                                         \n",
      "=========================================================================================\n",
      "                            coef    std err          z      P>|z|      [0.025      0.975]\n",
      "-----------------------------------------------------------------------------------------\n",
      "MONTH                     0.0210      0.001     21.747      0.000       0.019       0.023\n",
      "YEAR                     -0.0350      0.001    -32.780      0.000      -0.037      -0.033\n",
      "Residential               0.0026      0.014      0.181      0.856      -0.026       0.031\n",
      "Education                 0.1559      0.009     18.028      0.000       0.139       0.173\n",
      "Cultural                  0.0325      0.024      1.372      0.170      -0.014       0.079\n",
      "Recreational              0.1863      0.013     14.824      0.000       0.162       0.211\n",
      "Social Services           0.1603      0.022      7.353      0.000       0.118       0.203\n",
      "Transportation           -0.1331      0.030     -4.449      0.000      -0.192      -0.074\n",
      "Commercial                0.3581      0.025     14.610      0.000       0.310       0.406\n",
      "Government                0.0164      0.009      1.800      0.072      -0.001       0.034\n",
      "Religious Institution     0.4019      0.019     21.173      0.000       0.365       0.439\n",
      "Health Services           0.5041      0.030     16.717      0.000       0.445       0.563\n",
      "Public Safety             0.1566      0.025      6.368      0.000       0.108       0.205\n",
      "Water                    -0.2808      0.096     -2.911      0.004      -0.470      -0.092\n",
      "Miscellaneous             0.2840      0.028      9.978      0.000       0.228       0.340\n",
      "SUMMONS                   0.0152      0.000     75.907      0.000       0.015       0.016\n",
      "PEDESTRIAN_BINARY         0.3870      0.020     19.553      0.000       0.348       0.426\n",
      "INTERSECTIONS_BINARY      1.2187      0.061     19.923      0.000       1.099       1.339\n",
      "TURN_TRAFFIC_BINARY       0.1747      0.053      3.317      0.001       0.071       0.278\n",
      "HUMPS                    -0.0210      0.016     -1.344      0.179      -0.052       0.010\n",
      "IS_SIGNED                 0.2513      0.010     25.124      0.000       0.232       0.271\n",
      "SPEED_LIMIT              -0.0105      0.001    -10.525      0.000      -0.012      -0.009\n",
      "ST_WIDTH                  0.0438      0.000    163.870      0.000       0.043       0.044\n",
      "ST_LENGTH                 0.0006   9.65e-06     66.932      0.000       0.001       0.001\n",
      "With                      0.3145      0.009     35.327      0.000       0.297       0.332\n",
      "Against                   0.5760      0.048     11.942      0.000       0.482       0.671\n",
      "Two-Way                   0.4287      0.009     48.258      0.000       0.411       0.446\n",
      "Street                   66.4609      2.154     30.851      0.000      62.239      70.683\n",
      "Highway                  67.0539      2.155     31.122      0.000      62.831      71.277\n",
      "Bridge                   65.5944      2.155     30.443      0.000      61.371      69.817\n",
      "Tunnel                   66.1215      2.157     30.648      0.000      61.893      70.350\n",
      "Boardwalk                64.4928      2.268     28.431      0.000      60.047      68.939\n",
      "PathTrail                65.0041      2.155     30.162      0.000      60.780      69.228\n",
      "StepStreet               64.5261      2.181     29.592      0.000      60.252      68.800\n",
      "Driveway                 63.5245      2.165     29.337      0.000      59.280      67.769\n",
      "Ramp                     65.2290      2.155     30.272      0.000      61.006      69.452\n",
      "Alley                    61.7235      2.180     28.314      0.000      57.451      65.996\n",
      "U-Turn                   62.5947      2.200     28.447      0.000      58.282      66.907\n",
      "FerryRoute               36.3354   2.52e+04      0.001      0.999   -4.94e+04    4.94e+04\n",
      "=========================================================================================\n"
     ]
    }
   ],
   "source": [
    "model = sm.GLM(y_train, X_train, family=sm.families.NegativeBinomial())\n",
    "result = model.fit()\n",
    "\n",
    "# Print the model summary\n",
    "print(result.summary())"
   ],
   "metadata": {
    "collapsed": false,
    "pycharm": {
     "name": "#%%\n"
    }
   }
  },
  {
   "cell_type": "code",
   "execution_count": 16,
   "outputs": [],
   "source": [
    "y_pred = result.predict(X_test)\n",
    "mse_test = mean_squared_error(y_test, y_pred)/y_pred.shape[0]"
   ],
   "metadata": {
    "collapsed": false,
    "pycharm": {
     "name": "#%%\n"
    }
   }
  },
  {
   "cell_type": "code",
   "execution_count": 15,
   "outputs": [
    {
     "data": {
      "text/plain": "         true      pred\n332638    0.0  0.169454\n52947     0.0  0.223309\n458438    1.0  0.124692\n607804    0.0  0.047024\n1238724   0.0  0.297516\n...       ...       ...\n320509    0.0  0.107088\n235268    0.0  0.013101\n1200818   0.0  0.096100\n320366    0.0  0.135709\n533008    0.0  0.066458\n\n[321667 rows x 2 columns]",
      "text/html": "<div>\n<style scoped>\n    .dataframe tbody tr th:only-of-type {\n        vertical-align: middle;\n    }\n\n    .dataframe tbody tr th {\n        vertical-align: top;\n    }\n\n    .dataframe thead th {\n        text-align: right;\n    }\n</style>\n<table border=\"1\" class=\"dataframe\">\n  <thead>\n    <tr style=\"text-align: right;\">\n      <th></th>\n      <th>true</th>\n      <th>pred</th>\n    </tr>\n  </thead>\n  <tbody>\n    <tr>\n      <th>332638</th>\n      <td>0.0</td>\n      <td>0.169454</td>\n    </tr>\n    <tr>\n      <th>52947</th>\n      <td>0.0</td>\n      <td>0.223309</td>\n    </tr>\n    <tr>\n      <th>458438</th>\n      <td>1.0</td>\n      <td>0.124692</td>\n    </tr>\n    <tr>\n      <th>607804</th>\n      <td>0.0</td>\n      <td>0.047024</td>\n    </tr>\n    <tr>\n      <th>1238724</th>\n      <td>0.0</td>\n      <td>0.297516</td>\n    </tr>\n    <tr>\n      <th>...</th>\n      <td>...</td>\n      <td>...</td>\n    </tr>\n    <tr>\n      <th>320509</th>\n      <td>0.0</td>\n      <td>0.107088</td>\n    </tr>\n    <tr>\n      <th>235268</th>\n      <td>0.0</td>\n      <td>0.013101</td>\n    </tr>\n    <tr>\n      <th>1200818</th>\n      <td>0.0</td>\n      <td>0.096100</td>\n    </tr>\n    <tr>\n      <th>320366</th>\n      <td>0.0</td>\n      <td>0.135709</td>\n    </tr>\n    <tr>\n      <th>533008</th>\n      <td>0.0</td>\n      <td>0.066458</td>\n    </tr>\n  </tbody>\n</table>\n<p>321667 rows × 2 columns</p>\n</div>"
     },
     "execution_count": 15,
     "metadata": {},
     "output_type": "execute_result"
    }
   ],
   "source": [
    "pd.DataFrame({'true':y_test, 'pred':y_pred})"
   ],
   "metadata": {
    "collapsed": false,
    "pycharm": {
     "name": "#%%\n"
    }
   }
  },
  {
   "cell_type": "code",
   "execution_count": 17,
   "outputs": [],
   "source": [
    "with open('output_10000.txt', 'w') as file:\n",
    "    file.write(str(result.summary()) + '\\n')\n",
    "    file.write(f\"normalized MSE on test data is {mse_test}\")"
   ],
   "metadata": {
    "collapsed": false,
    "pycharm": {
     "name": "#%%\n"
    }
   }
  },
  {
   "cell_type": "code",
   "execution_count": null,
   "outputs": [],
   "source": [],
   "metadata": {
    "collapsed": false,
    "pycharm": {
     "name": "#%%\n"
    }
   }
  }
 ],
 "metadata": {
  "kernelspec": {
   "display_name": "Python 3",
   "language": "python",
   "name": "python3"
  },
  "language_info": {
   "codemirror_mode": {
    "name": "ipython",
    "version": 2
   },
   "file_extension": ".py",
   "mimetype": "text/x-python",
   "name": "python",
   "nbconvert_exporter": "python",
   "pygments_lexer": "ipython2",
   "version": "2.7.6"
  }
 },
 "nbformat": 4,
 "nbformat_minor": 0
}