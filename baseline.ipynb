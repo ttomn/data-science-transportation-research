{
 "cells": [
  {
   "cell_type": "code",
   "execution_count": 23,
   "metadata": {
    "collapsed": true
   },
   "outputs": [],
   "source": [
    "import pandas as pd\n",
    "import numpy as np\n",
    "import statsmodels.api as sm\n",
    "from sklearn.model_selection import train_test_split\n",
    "from utils import ours_read_csv\n",
    "from sklearn.metrics import mean_squared_error\n",
    "\n",
    "\n",
    "DIR_PATH_TOM = \"C:\\\\Users\\\\ttomn\\\\OneDrive\\\\Desktop\\\\data-science-transportation-research\""
   ]
  },
  {
   "cell_type": "code",
   "execution_count": 24,
   "outputs": [],
   "source": [
    "file_name = \"10000_streets_final_df.csv\""
   ],
   "metadata": {
    "collapsed": false,
    "pycharm": {
     "name": "#%%\n"
    }
   }
  },
  {
   "cell_type": "code",
   "execution_count": 25,
   "outputs": [
    {
     "data": {
      "text/plain": "         ST_INDEX                                           the_geom  MONTH  \\\n0              12  MULTILINESTRING ((-74.01213630770864 40.692040...      1   \n1              12  MULTILINESTRING ((-74.01213630770864 40.692040...      2   \n2              12  MULTILINESTRING ((-74.01213630770864 40.692040...      3   \n3              12  MULTILINESTRING ((-74.01213630770864 40.692040...      4   \n4              12  MULTILINESTRING ((-74.01213630770864 40.692040...      5   \n...           ...                                                ...    ...   \n1286663    121095  MULTILINESTRING ((-73.88110596307965 40.567784...     10   \n1286664    121095  MULTILINESTRING ((-73.88110596307965 40.567784...     11   \n1286665    121095  MULTILINESTRING ((-73.88110596307965 40.567784...     12   \n1286666    121095  MULTILINESTRING ((-73.88110596307965 40.567784...      1   \n1286667    121095  MULTILINESTRING ((-73.88110596307965 40.567784...      2   \n\n         YEAR  COLLISIONS  Residential  Education  Cultural  Recreational  \\\n0        2012         0.0          0.0        0.0       0.0           0.0   \n1        2012         0.0          0.0        0.0       0.0           0.0   \n2        2012         0.0          0.0        0.0       0.0           0.0   \n3        2012         0.0          0.0        0.0       0.0           0.0   \n4        2012         0.0          0.0        0.0       0.0           0.0   \n...       ...         ...          ...        ...       ...           ...   \n1286663  2022         0.0          0.0        0.0       0.0           0.0   \n1286664  2022         0.0          0.0        0.0       0.0           0.0   \n1286665  2022         0.0          0.0        0.0       0.0           0.0   \n1286666  2023         0.0          0.0        0.0       0.0           0.0   \n1286667  2023         0.0          0.0        0.0       0.0           0.0   \n\n         Social Services  ...  Bridge  Tunnel  Boardwalk  PathTrail  \\\n0                    0.0  ...       0       1          0          0   \n1                    0.0  ...       0       1          0          0   \n2                    0.0  ...       0       1          0          0   \n3                    0.0  ...       0       1          0          0   \n4                    0.0  ...       0       1          0          0   \n...                  ...  ...     ...     ...        ...        ...   \n1286663              0.0  ...       0       0          0          0   \n1286664              0.0  ...       0       0          0          0   \n1286665              0.0  ...       0       0          0          0   \n1286666              0.0  ...       0       0          0          0   \n1286667              0.0  ...       0       0          0          0   \n\n         StepStreet  Driveway  Ramp  Alley  U-Turn  FerryRoute  \n0                 0         0     0      0       0           0  \n1                 0         0     0      0       0           0  \n2                 0         0     0      0       0           0  \n3                 0         0     0      0       0           0  \n4                 0         0     0      0       0           0  \n...             ...       ...   ...    ...     ...         ...  \n1286663           0         0     1      0       0           0  \n1286664           0         0     1      0       0           0  \n1286665           0         0     1      0       0           0  \n1286666           0         0     1      0       0           0  \n1286667           0         0     1      0       0           0  \n\n[1286668 rows x 42 columns]",
      "text/html": "<div>\n<style scoped>\n    .dataframe tbody tr th:only-of-type {\n        vertical-align: middle;\n    }\n\n    .dataframe tbody tr th {\n        vertical-align: top;\n    }\n\n    .dataframe thead th {\n        text-align: right;\n    }\n</style>\n<table border=\"1\" class=\"dataframe\">\n  <thead>\n    <tr style=\"text-align: right;\">\n      <th></th>\n      <th>ST_INDEX</th>\n      <th>the_geom</th>\n      <th>MONTH</th>\n      <th>YEAR</th>\n      <th>COLLISIONS</th>\n      <th>Residential</th>\n      <th>Education</th>\n      <th>Cultural</th>\n      <th>Recreational</th>\n      <th>Social Services</th>\n      <th>...</th>\n      <th>Bridge</th>\n      <th>Tunnel</th>\n      <th>Boardwalk</th>\n      <th>PathTrail</th>\n      <th>StepStreet</th>\n      <th>Driveway</th>\n      <th>Ramp</th>\n      <th>Alley</th>\n      <th>U-Turn</th>\n      <th>FerryRoute</th>\n    </tr>\n  </thead>\n  <tbody>\n    <tr>\n      <th>0</th>\n      <td>12</td>\n      <td>MULTILINESTRING ((-74.01213630770864 40.692040...</td>\n      <td>1</td>\n      <td>2012</td>\n      <td>0.0</td>\n      <td>0.0</td>\n      <td>0.0</td>\n      <td>0.0</td>\n      <td>0.0</td>\n      <td>0.0</td>\n      <td>...</td>\n      <td>0</td>\n      <td>1</td>\n      <td>0</td>\n      <td>0</td>\n      <td>0</td>\n      <td>0</td>\n      <td>0</td>\n      <td>0</td>\n      <td>0</td>\n      <td>0</td>\n    </tr>\n    <tr>\n      <th>1</th>\n      <td>12</td>\n      <td>MULTILINESTRING ((-74.01213630770864 40.692040...</td>\n      <td>2</td>\n      <td>2012</td>\n      <td>0.0</td>\n      <td>0.0</td>\n      <td>0.0</td>\n      <td>0.0</td>\n      <td>0.0</td>\n      <td>0.0</td>\n      <td>...</td>\n      <td>0</td>\n      <td>1</td>\n      <td>0</td>\n      <td>0</td>\n      <td>0</td>\n      <td>0</td>\n      <td>0</td>\n      <td>0</td>\n      <td>0</td>\n      <td>0</td>\n    </tr>\n    <tr>\n      <th>2</th>\n      <td>12</td>\n      <td>MULTILINESTRING ((-74.01213630770864 40.692040...</td>\n      <td>3</td>\n      <td>2012</td>\n      <td>0.0</td>\n      <td>0.0</td>\n      <td>0.0</td>\n      <td>0.0</td>\n      <td>0.0</td>\n      <td>0.0</td>\n      <td>...</td>\n      <td>0</td>\n      <td>1</td>\n      <td>0</td>\n      <td>0</td>\n      <td>0</td>\n      <td>0</td>\n      <td>0</td>\n      <td>0</td>\n      <td>0</td>\n      <td>0</td>\n    </tr>\n    <tr>\n      <th>3</th>\n      <td>12</td>\n      <td>MULTILINESTRING ((-74.01213630770864 40.692040...</td>\n      <td>4</td>\n      <td>2012</td>\n      <td>0.0</td>\n      <td>0.0</td>\n      <td>0.0</td>\n      <td>0.0</td>\n      <td>0.0</td>\n      <td>0.0</td>\n      <td>...</td>\n      <td>0</td>\n      <td>1</td>\n      <td>0</td>\n      <td>0</td>\n      <td>0</td>\n      <td>0</td>\n      <td>0</td>\n      <td>0</td>\n      <td>0</td>\n      <td>0</td>\n    </tr>\n    <tr>\n      <th>4</th>\n      <td>12</td>\n      <td>MULTILINESTRING ((-74.01213630770864 40.692040...</td>\n      <td>5</td>\n      <td>2012</td>\n      <td>0.0</td>\n      <td>0.0</td>\n      <td>0.0</td>\n      <td>0.0</td>\n      <td>0.0</td>\n      <td>0.0</td>\n      <td>...</td>\n      <td>0</td>\n      <td>1</td>\n      <td>0</td>\n      <td>0</td>\n      <td>0</td>\n      <td>0</td>\n      <td>0</td>\n      <td>0</td>\n      <td>0</td>\n      <td>0</td>\n    </tr>\n    <tr>\n      <th>...</th>\n      <td>...</td>\n      <td>...</td>\n      <td>...</td>\n      <td>...</td>\n      <td>...</td>\n      <td>...</td>\n      <td>...</td>\n      <td>...</td>\n      <td>...</td>\n      <td>...</td>\n      <td>...</td>\n      <td>...</td>\n      <td>...</td>\n      <td>...</td>\n      <td>...</td>\n      <td>...</td>\n      <td>...</td>\n      <td>...</td>\n      <td>...</td>\n      <td>...</td>\n      <td>...</td>\n    </tr>\n    <tr>\n      <th>1286663</th>\n      <td>121095</td>\n      <td>MULTILINESTRING ((-73.88110596307965 40.567784...</td>\n      <td>10</td>\n      <td>2022</td>\n      <td>0.0</td>\n      <td>0.0</td>\n      <td>0.0</td>\n      <td>0.0</td>\n      <td>0.0</td>\n      <td>0.0</td>\n      <td>...</td>\n      <td>0</td>\n      <td>0</td>\n      <td>0</td>\n      <td>0</td>\n      <td>0</td>\n      <td>0</td>\n      <td>1</td>\n      <td>0</td>\n      <td>0</td>\n      <td>0</td>\n    </tr>\n    <tr>\n      <th>1286664</th>\n      <td>121095</td>\n      <td>MULTILINESTRING ((-73.88110596307965 40.567784...</td>\n      <td>11</td>\n      <td>2022</td>\n      <td>0.0</td>\n      <td>0.0</td>\n      <td>0.0</td>\n      <td>0.0</td>\n      <td>0.0</td>\n      <td>0.0</td>\n      <td>...</td>\n      <td>0</td>\n      <td>0</td>\n      <td>0</td>\n      <td>0</td>\n      <td>0</td>\n      <td>0</td>\n      <td>1</td>\n      <td>0</td>\n      <td>0</td>\n      <td>0</td>\n    </tr>\n    <tr>\n      <th>1286665</th>\n      <td>121095</td>\n      <td>MULTILINESTRING ((-73.88110596307965 40.567784...</td>\n      <td>12</td>\n      <td>2022</td>\n      <td>0.0</td>\n      <td>0.0</td>\n      <td>0.0</td>\n      <td>0.0</td>\n      <td>0.0</td>\n      <td>0.0</td>\n      <td>...</td>\n      <td>0</td>\n      <td>0</td>\n      <td>0</td>\n      <td>0</td>\n      <td>0</td>\n      <td>0</td>\n      <td>1</td>\n      <td>0</td>\n      <td>0</td>\n      <td>0</td>\n    </tr>\n    <tr>\n      <th>1286666</th>\n      <td>121095</td>\n      <td>MULTILINESTRING ((-73.88110596307965 40.567784...</td>\n      <td>1</td>\n      <td>2023</td>\n      <td>0.0</td>\n      <td>0.0</td>\n      <td>0.0</td>\n      <td>0.0</td>\n      <td>0.0</td>\n      <td>0.0</td>\n      <td>...</td>\n      <td>0</td>\n      <td>0</td>\n      <td>0</td>\n      <td>0</td>\n      <td>0</td>\n      <td>0</td>\n      <td>1</td>\n      <td>0</td>\n      <td>0</td>\n      <td>0</td>\n    </tr>\n    <tr>\n      <th>1286667</th>\n      <td>121095</td>\n      <td>MULTILINESTRING ((-73.88110596307965 40.567784...</td>\n      <td>2</td>\n      <td>2023</td>\n      <td>0.0</td>\n      <td>0.0</td>\n      <td>0.0</td>\n      <td>0.0</td>\n      <td>0.0</td>\n      <td>0.0</td>\n      <td>...</td>\n      <td>0</td>\n      <td>0</td>\n      <td>0</td>\n      <td>0</td>\n      <td>0</td>\n      <td>0</td>\n      <td>1</td>\n      <td>0</td>\n      <td>0</td>\n      <td>0</td>\n    </tr>\n  </tbody>\n</table>\n<p>1286668 rows × 42 columns</p>\n</div>"
     },
     "execution_count": 25,
     "metadata": {},
     "output_type": "execute_result"
    }
   ],
   "source": [
    "df = ours_read_csv(f\"{DIR_PATH_TOM}\\\\{file_name}\")\n",
    "df"
   ],
   "metadata": {
    "collapsed": false,
    "pycharm": {
     "name": "#%%\n"
    }
   }
  },
  {
   "cell_type": "code",
   "execution_count": 26,
   "outputs": [],
   "source": [
    "df = df.drop(columns=[\"the_geom\", \"ST_INDEX\"])"
   ],
   "metadata": {
    "collapsed": false,
    "pycharm": {
     "name": "#%%\n"
    }
   }
  },
  {
   "cell_type": "code",
   "execution_count": 27,
   "outputs": [],
   "source": [
    "# df[df[[\"With\",\"Against\", \"Two-Way\"]].sum(axis=1)==1]"
   ],
   "metadata": {
    "collapsed": false,
    "pycharm": {
     "name": "#%%\n"
    }
   }
  },
  {
   "cell_type": "code",
   "execution_count": 28,
   "outputs": [],
   "source": [
    "df = df[(df[\"FerryRoute\"]!=1)&(df[\"U-Turn\"]!=1)]\n",
    "df = df.drop(columns=[\"FerryRoute\", \"U-Turn\"])\n",
    "y = df.astype(np.float64)['COLLISIONS']\n",
    "X = df.astype(np.float64).drop('COLLISIONS', axis=1)"
   ],
   "metadata": {
    "collapsed": false,
    "pycharm": {
     "name": "#%%\n"
    }
   }
  },
  {
   "cell_type": "code",
   "execution_count": 29,
   "outputs": [],
   "source": [
    "for col in X.columns:\n",
    "    if np.all((X[col]==1) | (X[col]==0)):\n",
    "        continue\n",
    "    X[col] = (X[col] - X[col].mean())/X[col].std()"
   ],
   "metadata": {
    "collapsed": false,
    "pycharm": {
     "name": "#%%\n"
    }
   }
  },
  {
   "cell_type": "code",
   "execution_count": 30,
   "outputs": [
    {
     "data": {
      "text/plain": "            MONTH      YEAR  Residential  Education  Cultural  Recreational  \\\n0       -1.559034 -1.579719    -0.100424  -0.127275 -0.054233     -0.130819   \n1       -1.271674 -1.579719    -0.100424  -0.127275 -0.054233     -0.130819   \n2       -0.984314 -1.579719    -0.100424  -0.127275 -0.054233     -0.130819   \n3       -0.696955 -1.579719    -0.100424  -0.127275 -0.054233     -0.130819   \n4       -0.409595 -1.579719    -0.100424  -0.127275 -0.054233     -0.130819   \n...           ...       ...          ...        ...       ...           ...   \n1286663  1.027204  1.524128    -0.100424  -0.127275 -0.054233     -0.130819   \n1286664  1.314564  1.524128    -0.100424  -0.127275 -0.054233     -0.130819   \n1286665  1.601923  1.524128    -0.100424  -0.127275 -0.054233     -0.130819   \n1286666 -1.559034  1.834513    -0.100424  -0.127275 -0.054233     -0.130819   \n1286667 -1.271674  1.834513    -0.100424  -0.127275 -0.054233     -0.130819   \n\n         Social Services  Transportation  Commercial  Government  ...  \\\n0              -0.101894       -0.083401   -0.079891   -0.045246  ...   \n1              -0.101894       -0.083401   -0.079891   -0.045246  ...   \n2              -0.101894       -0.083401   -0.079891   -0.045246  ...   \n3              -0.101894       -0.083401   -0.079891   -0.045246  ...   \n4              -0.101894       -0.083401   -0.079891   -0.045246  ...   \n...                  ...             ...         ...         ...  ...   \n1286663        -0.101894       -0.083401   -0.079891   -0.045246  ...   \n1286664        -0.101894       -0.083401   -0.079891   -0.045246  ...   \n1286665        -0.101894       -0.083401   -0.079891   -0.045246  ...   \n1286666        -0.101894       -0.083401   -0.079891   -0.045246  ...   \n1286667        -0.101894       -0.083401   -0.079891   -0.045246  ...   \n\n         ST_WIDTH  ST_LENGTH  With  Against  Two-Way  Highway  Bridge  Tunnel  \\\n0       -0.971589  -0.554324   0.0      0.0      1.0      0.0     0.0     1.0   \n1       -0.971589  -0.554324   0.0      0.0      1.0      0.0     0.0     1.0   \n2       -0.971589  -0.554324   0.0      0.0      1.0      0.0     0.0     1.0   \n3       -0.971589  -0.554324   0.0      0.0      1.0      0.0     0.0     1.0   \n4       -0.971589  -0.554324   0.0      0.0      1.0      0.0     0.0     1.0   \n...           ...        ...   ...      ...      ...      ...     ...     ...   \n1286663  0.304511  -1.045830   1.0      0.0      0.0      0.0     0.0     0.0   \n1286664  0.304511  -1.045830   1.0      0.0      0.0      0.0     0.0     0.0   \n1286665  0.304511  -1.045830   1.0      0.0      0.0      0.0     0.0     0.0   \n1286666  0.304511  -1.045830   1.0      0.0      0.0      0.0     0.0     0.0   \n1286667  0.304511  -1.045830   1.0      0.0      0.0      0.0     0.0     0.0   \n\n         Ramp  SMALL_STREET  \n0         0.0           0.0  \n1         0.0           0.0  \n2         0.0           0.0  \n3         0.0           0.0  \n4         0.0           0.0  \n...       ...           ...  \n1286663   1.0           0.0  \n1286664   1.0           0.0  \n1286665   1.0           0.0  \n1286666   1.0           0.0  \n1286667   1.0           0.0  \n\n[1277958 rows x 32 columns]",
      "text/html": "<div>\n<style scoped>\n    .dataframe tbody tr th:only-of-type {\n        vertical-align: middle;\n    }\n\n    .dataframe tbody tr th {\n        vertical-align: top;\n    }\n\n    .dataframe thead th {\n        text-align: right;\n    }\n</style>\n<table border=\"1\" class=\"dataframe\">\n  <thead>\n    <tr style=\"text-align: right;\">\n      <th></th>\n      <th>MONTH</th>\n      <th>YEAR</th>\n      <th>Residential</th>\n      <th>Education</th>\n      <th>Cultural</th>\n      <th>Recreational</th>\n      <th>Social Services</th>\n      <th>Transportation</th>\n      <th>Commercial</th>\n      <th>Government</th>\n      <th>...</th>\n      <th>ST_WIDTH</th>\n      <th>ST_LENGTH</th>\n      <th>With</th>\n      <th>Against</th>\n      <th>Two-Way</th>\n      <th>Highway</th>\n      <th>Bridge</th>\n      <th>Tunnel</th>\n      <th>Ramp</th>\n      <th>SMALL_STREET</th>\n    </tr>\n  </thead>\n  <tbody>\n    <tr>\n      <th>0</th>\n      <td>-1.559034</td>\n      <td>-1.579719</td>\n      <td>-0.100424</td>\n      <td>-0.127275</td>\n      <td>-0.054233</td>\n      <td>-0.130819</td>\n      <td>-0.101894</td>\n      <td>-0.083401</td>\n      <td>-0.079891</td>\n      <td>-0.045246</td>\n      <td>...</td>\n      <td>-0.971589</td>\n      <td>-0.554324</td>\n      <td>0.0</td>\n      <td>0.0</td>\n      <td>1.0</td>\n      <td>0.0</td>\n      <td>0.0</td>\n      <td>1.0</td>\n      <td>0.0</td>\n      <td>0.0</td>\n    </tr>\n    <tr>\n      <th>1</th>\n      <td>-1.271674</td>\n      <td>-1.579719</td>\n      <td>-0.100424</td>\n      <td>-0.127275</td>\n      <td>-0.054233</td>\n      <td>-0.130819</td>\n      <td>-0.101894</td>\n      <td>-0.083401</td>\n      <td>-0.079891</td>\n      <td>-0.045246</td>\n      <td>...</td>\n      <td>-0.971589</td>\n      <td>-0.554324</td>\n      <td>0.0</td>\n      <td>0.0</td>\n      <td>1.0</td>\n      <td>0.0</td>\n      <td>0.0</td>\n      <td>1.0</td>\n      <td>0.0</td>\n      <td>0.0</td>\n    </tr>\n    <tr>\n      <th>2</th>\n      <td>-0.984314</td>\n      <td>-1.579719</td>\n      <td>-0.100424</td>\n      <td>-0.127275</td>\n      <td>-0.054233</td>\n      <td>-0.130819</td>\n      <td>-0.101894</td>\n      <td>-0.083401</td>\n      <td>-0.079891</td>\n      <td>-0.045246</td>\n      <td>...</td>\n      <td>-0.971589</td>\n      <td>-0.554324</td>\n      <td>0.0</td>\n      <td>0.0</td>\n      <td>1.0</td>\n      <td>0.0</td>\n      <td>0.0</td>\n      <td>1.0</td>\n      <td>0.0</td>\n      <td>0.0</td>\n    </tr>\n    <tr>\n      <th>3</th>\n      <td>-0.696955</td>\n      <td>-1.579719</td>\n      <td>-0.100424</td>\n      <td>-0.127275</td>\n      <td>-0.054233</td>\n      <td>-0.130819</td>\n      <td>-0.101894</td>\n      <td>-0.083401</td>\n      <td>-0.079891</td>\n      <td>-0.045246</td>\n      <td>...</td>\n      <td>-0.971589</td>\n      <td>-0.554324</td>\n      <td>0.0</td>\n      <td>0.0</td>\n      <td>1.0</td>\n      <td>0.0</td>\n      <td>0.0</td>\n      <td>1.0</td>\n      <td>0.0</td>\n      <td>0.0</td>\n    </tr>\n    <tr>\n      <th>4</th>\n      <td>-0.409595</td>\n      <td>-1.579719</td>\n      <td>-0.100424</td>\n      <td>-0.127275</td>\n      <td>-0.054233</td>\n      <td>-0.130819</td>\n      <td>-0.101894</td>\n      <td>-0.083401</td>\n      <td>-0.079891</td>\n      <td>-0.045246</td>\n      <td>...</td>\n      <td>-0.971589</td>\n      <td>-0.554324</td>\n      <td>0.0</td>\n      <td>0.0</td>\n      <td>1.0</td>\n      <td>0.0</td>\n      <td>0.0</td>\n      <td>1.0</td>\n      <td>0.0</td>\n      <td>0.0</td>\n    </tr>\n    <tr>\n      <th>...</th>\n      <td>...</td>\n      <td>...</td>\n      <td>...</td>\n      <td>...</td>\n      <td>...</td>\n      <td>...</td>\n      <td>...</td>\n      <td>...</td>\n      <td>...</td>\n      <td>...</td>\n      <td>...</td>\n      <td>...</td>\n      <td>...</td>\n      <td>...</td>\n      <td>...</td>\n      <td>...</td>\n      <td>...</td>\n      <td>...</td>\n      <td>...</td>\n      <td>...</td>\n      <td>...</td>\n    </tr>\n    <tr>\n      <th>1286663</th>\n      <td>1.027204</td>\n      <td>1.524128</td>\n      <td>-0.100424</td>\n      <td>-0.127275</td>\n      <td>-0.054233</td>\n      <td>-0.130819</td>\n      <td>-0.101894</td>\n      <td>-0.083401</td>\n      <td>-0.079891</td>\n      <td>-0.045246</td>\n      <td>...</td>\n      <td>0.304511</td>\n      <td>-1.045830</td>\n      <td>1.0</td>\n      <td>0.0</td>\n      <td>0.0</td>\n      <td>0.0</td>\n      <td>0.0</td>\n      <td>0.0</td>\n      <td>1.0</td>\n      <td>0.0</td>\n    </tr>\n    <tr>\n      <th>1286664</th>\n      <td>1.314564</td>\n      <td>1.524128</td>\n      <td>-0.100424</td>\n      <td>-0.127275</td>\n      <td>-0.054233</td>\n      <td>-0.130819</td>\n      <td>-0.101894</td>\n      <td>-0.083401</td>\n      <td>-0.079891</td>\n      <td>-0.045246</td>\n      <td>...</td>\n      <td>0.304511</td>\n      <td>-1.045830</td>\n      <td>1.0</td>\n      <td>0.0</td>\n      <td>0.0</td>\n      <td>0.0</td>\n      <td>0.0</td>\n      <td>0.0</td>\n      <td>1.0</td>\n      <td>0.0</td>\n    </tr>\n    <tr>\n      <th>1286665</th>\n      <td>1.601923</td>\n      <td>1.524128</td>\n      <td>-0.100424</td>\n      <td>-0.127275</td>\n      <td>-0.054233</td>\n      <td>-0.130819</td>\n      <td>-0.101894</td>\n      <td>-0.083401</td>\n      <td>-0.079891</td>\n      <td>-0.045246</td>\n      <td>...</td>\n      <td>0.304511</td>\n      <td>-1.045830</td>\n      <td>1.0</td>\n      <td>0.0</td>\n      <td>0.0</td>\n      <td>0.0</td>\n      <td>0.0</td>\n      <td>0.0</td>\n      <td>1.0</td>\n      <td>0.0</td>\n    </tr>\n    <tr>\n      <th>1286666</th>\n      <td>-1.559034</td>\n      <td>1.834513</td>\n      <td>-0.100424</td>\n      <td>-0.127275</td>\n      <td>-0.054233</td>\n      <td>-0.130819</td>\n      <td>-0.101894</td>\n      <td>-0.083401</td>\n      <td>-0.079891</td>\n      <td>-0.045246</td>\n      <td>...</td>\n      <td>0.304511</td>\n      <td>-1.045830</td>\n      <td>1.0</td>\n      <td>0.0</td>\n      <td>0.0</td>\n      <td>0.0</td>\n      <td>0.0</td>\n      <td>0.0</td>\n      <td>1.0</td>\n      <td>0.0</td>\n    </tr>\n    <tr>\n      <th>1286667</th>\n      <td>-1.271674</td>\n      <td>1.834513</td>\n      <td>-0.100424</td>\n      <td>-0.127275</td>\n      <td>-0.054233</td>\n      <td>-0.130819</td>\n      <td>-0.101894</td>\n      <td>-0.083401</td>\n      <td>-0.079891</td>\n      <td>-0.045246</td>\n      <td>...</td>\n      <td>0.304511</td>\n      <td>-1.045830</td>\n      <td>1.0</td>\n      <td>0.0</td>\n      <td>0.0</td>\n      <td>0.0</td>\n      <td>0.0</td>\n      <td>0.0</td>\n      <td>1.0</td>\n      <td>0.0</td>\n    </tr>\n  </tbody>\n</table>\n<p>1277958 rows × 32 columns</p>\n</div>"
     },
     "execution_count": 30,
     "metadata": {},
     "output_type": "execute_result"
    }
   ],
   "source": [
    "X[\"SMALL_STREET\"] = ((X[\"PathTrail\"]==1)|(X[\"Boardwalk\"]==1)|(X[\"StepStreet\"]==1)|(X[\"Driveway\"]==1)|\\\n",
    "                    (X[\"Alley\"]==1)).astype(np.float64)\n",
    "X.drop(columns=[\"PathTrail\",\"Boardwalk\",\"StepStreet\",\"Driveway\",\"Alley\", \"Street\", ],\n",
    "       inplace=True)\n",
    "X"
   ],
   "metadata": {
    "collapsed": false,
    "pycharm": {
     "name": "#%%\n"
    }
   }
  },
  {
   "cell_type": "code",
   "execution_count": 31,
   "outputs": [],
   "source": [
    "X_train, X_test, y_train, y_test = train_test_split(X, y, test_size=0.25, random_state=4)"
   ],
   "metadata": {
    "collapsed": false,
    "pycharm": {
     "name": "#%%\n"
    }
   }
  },
  {
   "cell_type": "code",
   "execution_count": 36,
   "outputs": [],
   "source": [
    "freq_weights = None #y_train//2+1"
   ],
   "metadata": {
    "collapsed": false,
    "pycharm": {
     "name": "#%%\n"
    }
   }
  },
  {
   "cell_type": "code",
   "execution_count": 37,
   "outputs": [
    {
     "name": "stdout",
     "output_type": "stream",
     "text": [
      "                 Generalized Linear Model Regression Results                  \n",
      "==============================================================================\n",
      "Dep. Variable:             COLLISIONS   No. Observations:               958468\n",
      "Model:                            GLM   Df Residuals:                   958435\n",
      "Model Family:        NegativeBinomial   Df Model:                           32\n",
      "Link Function:                    Log   Scale:                          1.0000\n",
      "Method:                          IRLS   Log-Likelihood:            -3.1218e+05\n",
      "Date:                Mon, 05 Jun 2023   Deviance:                   4.0057e+05\n",
      "Time:                        21:09:37   Pearson chi2:                 1.84e+06\n",
      "No. Iterations:                    30   Pseudo R-squ. (CS):            0.06444\n",
      "Covariance Type:            nonrobust                                         \n",
      "=========================================================================================\n",
      "                            coef    std err          z      P>|z|      [0.025      0.975]\n",
      "-----------------------------------------------------------------------------------------\n",
      "const                    -2.6657      0.006   -432.194      0.000      -2.678      -2.654\n",
      "MONTH                     0.0740      0.003     21.992      0.000       0.067       0.081\n",
      "YEAR                     -0.1105      0.003    -32.148      0.000      -0.117      -0.104\n",
      "Residential               0.0063      0.003      2.056      0.040       0.000       0.012\n",
      "Education                 0.0393      0.002     17.817      0.000       0.035       0.044\n",
      "Cultural                  0.0037      0.002      1.578      0.114      -0.001       0.008\n",
      "Recreational              0.0460      0.003     15.625      0.000       0.040       0.052\n",
      "Social Services           0.0183      0.003      7.291      0.000       0.013       0.023\n",
      "Transportation           -0.0316      0.006     -5.540      0.000      -0.043      -0.020\n",
      "Commercial                0.0368      0.002     15.311      0.000       0.032       0.041\n",
      "Government                0.0020      0.002      1.026      0.305      -0.002       0.006\n",
      "Religious Institution     0.0490      0.002     21.001      0.000       0.044       0.054\n",
      "Health Services           0.0301      0.002     16.707      0.000       0.027       0.034\n",
      "Public Safety             0.0121      0.002      4.949      0.000       0.007       0.017\n",
      "Water                    -0.0132      0.005     -2.673      0.008      -0.023      -0.004\n",
      "Miscellaneous             0.0268      0.003      8.960      0.000       0.021       0.033\n",
      "SUMMONS                   0.0880      0.001     76.517      0.000       0.086       0.090\n",
      "PEDESTRIAN_BINARY         0.3796      0.020     19.106      0.000       0.341       0.419\n",
      "INTERSECTIONS_BINARY      1.2366      0.061     20.232      0.000       1.117       1.356\n",
      "TURN_TRAFFIC_BINARY       0.2197      0.052      4.219      0.000       0.118       0.322\n",
      "HUMPS                    -0.0062      0.003     -1.935      0.053      -0.013    7.95e-05\n",
      "IS_SIGNED                 0.2581      0.010     25.870      0.000       0.239       0.278\n",
      "SPEED_LIMIT              -0.0395      0.004    -10.718      0.000      -0.047      -0.032\n",
      "ST_WIDTH                  0.6172      0.004    163.977      0.000       0.610       0.625\n",
      "ST_LENGTH                 0.1879      0.003     66.569      0.000       0.182       0.193\n",
      "With                      0.3244      0.009     36.521      0.000       0.307       0.342\n",
      "Against                   0.8392      0.039     21.316      0.000       0.762       0.916\n",
      "Two-Way                   0.4297      0.009     48.377      0.000       0.412       0.447\n",
      "Highway                   0.5906      0.015     38.656      0.000       0.561       0.621\n",
      "Bridge                   -0.9594      0.036    -26.423      0.000      -1.031      -0.888\n",
      "Tunnel                   -0.3553      0.115     -3.077      0.002      -0.582      -0.129\n",
      "Ramp                     -1.2253      0.041    -29.878      0.000      -1.306      -1.145\n",
      "SMALL_STREET             -2.0735      0.051    -40.604      0.000      -2.174      -1.973\n",
      "=========================================================================================\n"
     ]
    }
   ],
   "source": [
    "model = sm.GLM(y_train, sm.tools.add_constant(X_train), family=sm.families.NegativeBinomial(), freq_weights=freq_weights)\n",
    "result = model.fit(method=\"IRLS\")\n",
    "\n",
    "# Print the model summary\n",
    "print(result.summary())"
   ],
   "metadata": {
    "collapsed": false,
    "pycharm": {
     "name": "#%%\n"
    }
   }
  },
  {
   "cell_type": "code",
   "execution_count": 38,
   "outputs": [],
   "source": [
    "y_pred = result.predict(sm.tools.add_constant(X_test))\n",
    "mse_test = mean_squared_error(y_test, y_pred)/y_pred.shape[0]"
   ],
   "metadata": {
    "collapsed": false,
    "pycharm": {
     "name": "#%%\n"
    }
   }
  },
  {
   "cell_type": "code",
   "execution_count": 39,
   "outputs": [
    {
     "data": {
      "text/plain": "         true      pred\n336143    2.0  0.090097\n334055    0.0  0.091492\n964587    0.0  0.068169\n1095495   0.0  0.005156\n857636    0.0  0.116960\n...       ...       ...\n1206925   0.0  0.071705\n1025438   0.0  0.004541\n113410    0.0  0.097400\n387433    0.0  0.092796\n424799    0.0  0.171359\n\n[319490 rows x 2 columns]",
      "text/html": "<div>\n<style scoped>\n    .dataframe tbody tr th:only-of-type {\n        vertical-align: middle;\n    }\n\n    .dataframe tbody tr th {\n        vertical-align: top;\n    }\n\n    .dataframe thead th {\n        text-align: right;\n    }\n</style>\n<table border=\"1\" class=\"dataframe\">\n  <thead>\n    <tr style=\"text-align: right;\">\n      <th></th>\n      <th>true</th>\n      <th>pred</th>\n    </tr>\n  </thead>\n  <tbody>\n    <tr>\n      <th>336143</th>\n      <td>2.0</td>\n      <td>0.090097</td>\n    </tr>\n    <tr>\n      <th>334055</th>\n      <td>0.0</td>\n      <td>0.091492</td>\n    </tr>\n    <tr>\n      <th>964587</th>\n      <td>0.0</td>\n      <td>0.068169</td>\n    </tr>\n    <tr>\n      <th>1095495</th>\n      <td>0.0</td>\n      <td>0.005156</td>\n    </tr>\n    <tr>\n      <th>857636</th>\n      <td>0.0</td>\n      <td>0.116960</td>\n    </tr>\n    <tr>\n      <th>...</th>\n      <td>...</td>\n      <td>...</td>\n    </tr>\n    <tr>\n      <th>1206925</th>\n      <td>0.0</td>\n      <td>0.071705</td>\n    </tr>\n    <tr>\n      <th>1025438</th>\n      <td>0.0</td>\n      <td>0.004541</td>\n    </tr>\n    <tr>\n      <th>113410</th>\n      <td>0.0</td>\n      <td>0.097400</td>\n    </tr>\n    <tr>\n      <th>387433</th>\n      <td>0.0</td>\n      <td>0.092796</td>\n    </tr>\n    <tr>\n      <th>424799</th>\n      <td>0.0</td>\n      <td>0.171359</td>\n    </tr>\n  </tbody>\n</table>\n<p>319490 rows × 2 columns</p>\n</div>"
     },
     "execution_count": 39,
     "metadata": {},
     "output_type": "execute_result"
    }
   ],
   "source": [
    "pd.DataFrame({'true':y_test, 'pred':y_pred})"
   ],
   "metadata": {
    "collapsed": false,
    "pycharm": {
     "name": "#%%\n"
    }
   }
  },
  {
   "cell_type": "code",
   "execution_count": 12,
   "outputs": [],
   "source": [
    "with open('output_10000.txt', 'w') as file:\n",
    "    file.write(str(result.summary()) + '\\n')\n",
    "    file.write(f\"normalized MSE on test data is {mse_test}\")"
   ],
   "metadata": {
    "collapsed": false,
    "pycharm": {
     "name": "#%%\n"
    }
   }
  },
  {
   "cell_type": "code",
   "execution_count": null,
   "outputs": [],
   "source": [],
   "metadata": {
    "collapsed": false,
    "pycharm": {
     "name": "#%%\n"
    }
   }
  }
 ],
 "metadata": {
  "kernelspec": {
   "display_name": "Python 3",
   "language": "python",
   "name": "python3"
  },
  "language_info": {
   "codemirror_mode": {
    "name": "ipython",
    "version": 2
   },
   "file_extension": ".py",
   "mimetype": "text/x-python",
   "name": "python",
   "nbconvert_exporter": "python",
   "pygments_lexer": "ipython2",
   "version": "2.7.6"
  }
 },
 "nbformat": 4,
 "nbformat_minor": 0
}