{
 "cells": [
  {
   "cell_type": "code",
   "execution_count": 2,
   "outputs": [],
   "source": [
    "import numpy as np\n",
    "import pandas as pd\n",
    "from pandas_profiling import ProfileReport\n",
    "import seaborn as sns\n",
    "import folium"
   ],
   "metadata": {
    "collapsed": false,
    "pycharm": {
     "name": "#%%\n"
    }
   }
  },
  {
   "cell_type": "code",
   "execution_count": 3,
   "outputs": [
    {
     "data": {
      "text/plain": "         EVNT_KEY VIOLATION_DATE VIOLATION_TIME CHG_LAW_CD VIOLATION_CODE  \\\n0       239079620     01/13/2022       12:25:00        VTL          1180D   \n1       239648211     01/25/2022       10:24:00        NYC          403A1   \n2       241452758     03/02/2022       10:29:12        VTL           5091   \n3       240915437     02/19/2022       06:53:30        NYC          406A2   \n4       238942415     01/11/2022       11:03:04        VTL          1180D   \n...           ...            ...            ...        ...            ...   \n437067  251014999     09/13/2022       18:15:00        VTL          1172A   \n437068  251717441     09/28/2022       14:55:00        VTL           5091   \n437069  251820723     09/30/2022       09:08:45        VTL        1111D1N   \n437070  250766737     09/08/2022       11:30:00        VTL         1229C3   \n437071  250900174     09/11/2022       13:00:00        VTL        1111D1N   \n\n       VEH_CATEGORY        CITY_NM  RPT_OWNING_CMD  X_COORD_CD  Y_COORD_CD  \\\n0           CAR/SUV  STATEN ISLAND             122      965006      159201   \n1           CAR/SUV      MANHATTAN               1      980541      199857   \n2           CAR/SUV          BRONX              52     1017478      256069   \n3           CAR/SUV         QUEENS             112     1025401      202586   \n4         TRUCK/BUS      MANHATTAN               6      984338      208351   \n...             ...            ...             ...         ...         ...   \n437067      CAR/SUV      MANHATTAN              34     1006487      253905   \n437068      CAR/SUV         QUEENS             110     1019894      212168   \n437069      CAR/SUV      MANHATTAN              10      985808      215574   \n437070      CAR/SUV          BRONX              40     1007914      232775   \n437071      CAR/SUV      MANHATTAN              34     1002024      249023   \n\n         Latitude  Longitude                              Location Point  \\\n0       40.603625 -74.069302            POINT (-74.06930238 40.60362534)   \n1       40.715237 -74.013379            POINT (-74.01337938 40.71523721)   \n2       40.869470 -73.879861  POINT (-73.8798608037303 40.8694704770483)   \n3       40.722641 -73.851542  POINT (-73.8515418216779 40.7226409964758)   \n4       40.738552 -73.999682            POINT (-73.99968244 40.73855195)   \n...           ...        ...                                         ...   \n437067  40.863557 -73.919606            POINT (-73.91960608 40.86355719)   \n437068  40.748957 -73.871357            POINT (-73.87135711 40.74895683)   \n437069  40.758377 -73.994376            POINT (-73.99437622 40.75837713)   \n437070  40.805558 -73.914522            POINT (-73.91452156 40.80555776)   \n437071  40.850168 -73.935754             POINT (-73.9357542 40.85016768)   \n\n        JURIS_CD  \n0              1  \n1              1  \n2              1  \n3              1  \n4              1  \n...          ...  \n437067         1  \n437068         1  \n437069         1  \n437070         1  \n437071         1  \n\n[437072 rows x 14 columns]",
      "text/html": "<div>\n<style scoped>\n    .dataframe tbody tr th:only-of-type {\n        vertical-align: middle;\n    }\n\n    .dataframe tbody tr th {\n        vertical-align: top;\n    }\n\n    .dataframe thead th {\n        text-align: right;\n    }\n</style>\n<table border=\"1\" class=\"dataframe\">\n  <thead>\n    <tr style=\"text-align: right;\">\n      <th></th>\n      <th>EVNT_KEY</th>\n      <th>VIOLATION_DATE</th>\n      <th>VIOLATION_TIME</th>\n      <th>CHG_LAW_CD</th>\n      <th>VIOLATION_CODE</th>\n      <th>VEH_CATEGORY</th>\n      <th>CITY_NM</th>\n      <th>RPT_OWNING_CMD</th>\n      <th>X_COORD_CD</th>\n      <th>Y_COORD_CD</th>\n      <th>Latitude</th>\n      <th>Longitude</th>\n      <th>Location Point</th>\n      <th>JURIS_CD</th>\n    </tr>\n  </thead>\n  <tbody>\n    <tr>\n      <th>0</th>\n      <td>239079620</td>\n      <td>01/13/2022</td>\n      <td>12:25:00</td>\n      <td>VTL</td>\n      <td>1180D</td>\n      <td>CAR/SUV</td>\n      <td>STATEN ISLAND</td>\n      <td>122</td>\n      <td>965006</td>\n      <td>159201</td>\n      <td>40.603625</td>\n      <td>-74.069302</td>\n      <td>POINT (-74.06930238 40.60362534)</td>\n      <td>1</td>\n    </tr>\n    <tr>\n      <th>1</th>\n      <td>239648211</td>\n      <td>01/25/2022</td>\n      <td>10:24:00</td>\n      <td>NYC</td>\n      <td>403A1</td>\n      <td>CAR/SUV</td>\n      <td>MANHATTAN</td>\n      <td>1</td>\n      <td>980541</td>\n      <td>199857</td>\n      <td>40.715237</td>\n      <td>-74.013379</td>\n      <td>POINT (-74.01337938 40.71523721)</td>\n      <td>1</td>\n    </tr>\n    <tr>\n      <th>2</th>\n      <td>241452758</td>\n      <td>03/02/2022</td>\n      <td>10:29:12</td>\n      <td>VTL</td>\n      <td>5091</td>\n      <td>CAR/SUV</td>\n      <td>BRONX</td>\n      <td>52</td>\n      <td>1017478</td>\n      <td>256069</td>\n      <td>40.869470</td>\n      <td>-73.879861</td>\n      <td>POINT (-73.8798608037303 40.8694704770483)</td>\n      <td>1</td>\n    </tr>\n    <tr>\n      <th>3</th>\n      <td>240915437</td>\n      <td>02/19/2022</td>\n      <td>06:53:30</td>\n      <td>NYC</td>\n      <td>406A2</td>\n      <td>CAR/SUV</td>\n      <td>QUEENS</td>\n      <td>112</td>\n      <td>1025401</td>\n      <td>202586</td>\n      <td>40.722641</td>\n      <td>-73.851542</td>\n      <td>POINT (-73.8515418216779 40.7226409964758)</td>\n      <td>1</td>\n    </tr>\n    <tr>\n      <th>4</th>\n      <td>238942415</td>\n      <td>01/11/2022</td>\n      <td>11:03:04</td>\n      <td>VTL</td>\n      <td>1180D</td>\n      <td>TRUCK/BUS</td>\n      <td>MANHATTAN</td>\n      <td>6</td>\n      <td>984338</td>\n      <td>208351</td>\n      <td>40.738552</td>\n      <td>-73.999682</td>\n      <td>POINT (-73.99968244 40.73855195)</td>\n      <td>1</td>\n    </tr>\n    <tr>\n      <th>...</th>\n      <td>...</td>\n      <td>...</td>\n      <td>...</td>\n      <td>...</td>\n      <td>...</td>\n      <td>...</td>\n      <td>...</td>\n      <td>...</td>\n      <td>...</td>\n      <td>...</td>\n      <td>...</td>\n      <td>...</td>\n      <td>...</td>\n      <td>...</td>\n    </tr>\n    <tr>\n      <th>437067</th>\n      <td>251014999</td>\n      <td>09/13/2022</td>\n      <td>18:15:00</td>\n      <td>VTL</td>\n      <td>1172A</td>\n      <td>CAR/SUV</td>\n      <td>MANHATTAN</td>\n      <td>34</td>\n      <td>1006487</td>\n      <td>253905</td>\n      <td>40.863557</td>\n      <td>-73.919606</td>\n      <td>POINT (-73.91960608 40.86355719)</td>\n      <td>1</td>\n    </tr>\n    <tr>\n      <th>437068</th>\n      <td>251717441</td>\n      <td>09/28/2022</td>\n      <td>14:55:00</td>\n      <td>VTL</td>\n      <td>5091</td>\n      <td>CAR/SUV</td>\n      <td>QUEENS</td>\n      <td>110</td>\n      <td>1019894</td>\n      <td>212168</td>\n      <td>40.748957</td>\n      <td>-73.871357</td>\n      <td>POINT (-73.87135711 40.74895683)</td>\n      <td>1</td>\n    </tr>\n    <tr>\n      <th>437069</th>\n      <td>251820723</td>\n      <td>09/30/2022</td>\n      <td>09:08:45</td>\n      <td>VTL</td>\n      <td>1111D1N</td>\n      <td>CAR/SUV</td>\n      <td>MANHATTAN</td>\n      <td>10</td>\n      <td>985808</td>\n      <td>215574</td>\n      <td>40.758377</td>\n      <td>-73.994376</td>\n      <td>POINT (-73.99437622 40.75837713)</td>\n      <td>1</td>\n    </tr>\n    <tr>\n      <th>437070</th>\n      <td>250766737</td>\n      <td>09/08/2022</td>\n      <td>11:30:00</td>\n      <td>VTL</td>\n      <td>1229C3</td>\n      <td>CAR/SUV</td>\n      <td>BRONX</td>\n      <td>40</td>\n      <td>1007914</td>\n      <td>232775</td>\n      <td>40.805558</td>\n      <td>-73.914522</td>\n      <td>POINT (-73.91452156 40.80555776)</td>\n      <td>1</td>\n    </tr>\n    <tr>\n      <th>437071</th>\n      <td>250900174</td>\n      <td>09/11/2022</td>\n      <td>13:00:00</td>\n      <td>VTL</td>\n      <td>1111D1N</td>\n      <td>CAR/SUV</td>\n      <td>MANHATTAN</td>\n      <td>34</td>\n      <td>1002024</td>\n      <td>249023</td>\n      <td>40.850168</td>\n      <td>-73.935754</td>\n      <td>POINT (-73.9357542 40.85016768)</td>\n      <td>1</td>\n    </tr>\n  </tbody>\n</table>\n<p>437072 rows × 14 columns</p>\n</div>"
     },
     "execution_count": 3,
     "metadata": {},
     "output_type": "execute_result"
    }
   ],
   "source": [
    "df_summons = pd.read_csv(\"datasets/NYPD_B_Summons__Year_to_Date_.csv\")\n",
    "df_summons"
   ],
   "metadata": {
    "collapsed": false,
    "pycharm": {
     "name": "#%%\n"
    }
   }
  },
  {
   "cell_type": "code",
   "execution_count": 29,
   "outputs": [],
   "source": [
    "# profile = ProfileReport(df_summons, title=\"summmons Report\")\n",
    "# profile.to_file(\"summmons.html\")"
   ],
   "metadata": {
    "collapsed": false,
    "pycharm": {
     "name": "#%%\n"
    }
   }
  },
  {
   "cell_type": "code",
   "execution_count": 30,
   "outputs": [
    {
     "name": "stderr",
     "output_type": "stream",
     "text": [
      "C:\\Users\\ttomn\\AppData\\Local\\Temp\\ipykernel_11872\\3595555843.py:1: DtypeWarning: Columns (3) have mixed types. Specify dtype option on import or set low_memory=False.\n",
      "  df_collisions = pd.read_csv(\"datasets/Motor_Vehicle_Collisions_-_Crashes.csv\")\n"
     ]
    },
    {
     "data": {
      "text/plain": "         CRASH DATE CRASH TIME        BOROUGH ZIP CODE   LATITUDE  LONGITUDE  \\\n0        09/11/2021       2:39            NaN      NaN        NaN        NaN   \n1        03/26/2022      11:45            NaN      NaN        NaN        NaN   \n2        06/29/2022       6:55            NaN      NaN        NaN        NaN   \n3        09/11/2021       9:35       BROOKLYN  11208.0  40.667202 -73.866500   \n4        12/14/2021       8:13       BROOKLYN  11233.0  40.683304 -73.917274   \n...             ...        ...            ...      ...        ...        ...   \n1949625  11/29/2022       2:20  STATEN ISLAND  10305.0  40.611940 -74.070380   \n1949626  11/29/2022      15:05       BROOKLYN  11220.0  40.639854 -74.012200   \n1949627  11/24/2022      22:00            NaN      NaN  40.812073 -73.936040   \n1949628  10/18/2022      15:00            NaN      NaN  40.797035 -73.929825   \n1949629  11/29/2022       6:25       BROOKLYN  11210.0  40.625275 -73.946610   \n\n                        LOCATION           ON STREET NAME CROSS STREET NAME  \\\n0                            NaN    WHITESTONE EXPRESSWAY         20 AVENUE   \n1                            NaN  QUEENSBORO BRIDGE UPPER               NaN   \n2                            NaN       THROGS NECK BRIDGE               NaN   \n3          (40.667202, -73.8665)                      NaN               NaN   \n4        (40.683304, -73.917274)          SARATOGA AVENUE    DECATUR STREET   \n...                          ...                      ...               ...   \n1949625    (40.61194, -74.07038)                      NaN               NaN   \n1949626    (40.639854, -74.0122)                57 STREET          6 AVENUE   \n1949627   (40.812073, -73.93604)          EAST 135 STREET    MADISON AVENUE   \n1949628  (40.797035, -73.929825)          EAST 120 STREET   PLEASANT AVENUE   \n1949629   (40.625275, -73.94661)                      NaN               NaN   \n\n                   OFF STREET NAME  ...  CONTRIBUTING FACTOR VEHICLE 2  \\\n0                              NaN  ...                    Unspecified   \n1                              NaN  ...                            NaN   \n2                              NaN  ...                    Unspecified   \n3          1211      LORING AVENUE  ...                            NaN   \n4                              NaN  ...                            NaN   \n...                            ...  ...                            ...   \n1949625  255       HYLAN BOULEVARD  ...                            NaN   \n1949626                        NaN  ...                    Unspecified   \n1949627                        NaN  ...                    Unspecified   \n1949628                        NaN  ...                            NaN   \n1949629  2442      NOSTRAND AVENUE  ...                    Unspecified   \n\n         CONTRIBUTING FACTOR VEHICLE 3  CONTRIBUTING FACTOR VEHICLE 4  \\\n0                                  NaN                            NaN   \n1                                  NaN                            NaN   \n2                                  NaN                            NaN   \n3                                  NaN                            NaN   \n4                                  NaN                            NaN   \n...                                ...                            ...   \n1949625                            NaN                            NaN   \n1949626                            NaN                            NaN   \n1949627                            NaN                            NaN   \n1949628                            NaN                            NaN   \n1949629                    Unspecified                            NaN   \n\n         CONTRIBUTING FACTOR VEHICLE 5  COLLISION_ID  \\\n0                                  NaN       4455765   \n1                                  NaN       4513547   \n2                                  NaN       4541903   \n3                                  NaN       4456314   \n4                                  NaN       4486609   \n...                                ...           ...   \n1949625                            NaN       4585934   \n1949626                            NaN       4586337   \n1949627                            NaN       4586345   \n1949628                            NaN       4586360   \n1949629                            NaN       4585982   \n\n                         VEHICLE TYPE CODE 1  \\\n0                                      Sedan   \n1                                      Sedan   \n2                                      Sedan   \n3                                      Sedan   \n4                                        NaN   \n...                                      ...   \n1949625                                Sedan   \n1949626                                Sedan   \n1949627  Station Wagon/Sport Utility Vehicle   \n1949628  Station Wagon/Sport Utility Vehicle   \n1949629                                Sedan   \n\n                         VEHICLE TYPE CODE 2  VEHICLE TYPE CODE 3  \\\n0                                      Sedan                  NaN   \n1                                        NaN                  NaN   \n2                              Pick-up Truck                  NaN   \n3                                        NaN                  NaN   \n4                                        NaN                  NaN   \n...                                      ...                  ...   \n1949625                                  NaN                  NaN   \n1949626                           Distributo                  NaN   \n1949627                                  NaN                  NaN   \n1949628                                  NaN                  NaN   \n1949629  Station Wagon/Sport Utility Vehicle                Sedan   \n\n        VEHICLE TYPE CODE 4 VEHICLE TYPE CODE 5  \n0                       NaN                 NaN  \n1                       NaN                 NaN  \n2                       NaN                 NaN  \n3                       NaN                 NaN  \n4                       NaN                 NaN  \n...                     ...                 ...  \n1949625                 NaN                 NaN  \n1949626                 NaN                 NaN  \n1949627                 NaN                 NaN  \n1949628                 NaN                 NaN  \n1949629                 NaN                 NaN  \n\n[1949630 rows x 29 columns]",
      "text/html": "<div>\n<style scoped>\n    .dataframe tbody tr th:only-of-type {\n        vertical-align: middle;\n    }\n\n    .dataframe tbody tr th {\n        vertical-align: top;\n    }\n\n    .dataframe thead th {\n        text-align: right;\n    }\n</style>\n<table border=\"1\" class=\"dataframe\">\n  <thead>\n    <tr style=\"text-align: right;\">\n      <th></th>\n      <th>CRASH DATE</th>\n      <th>CRASH TIME</th>\n      <th>BOROUGH</th>\n      <th>ZIP CODE</th>\n      <th>LATITUDE</th>\n      <th>LONGITUDE</th>\n      <th>LOCATION</th>\n      <th>ON STREET NAME</th>\n      <th>CROSS STREET NAME</th>\n      <th>OFF STREET NAME</th>\n      <th>...</th>\n      <th>CONTRIBUTING FACTOR VEHICLE 2</th>\n      <th>CONTRIBUTING FACTOR VEHICLE 3</th>\n      <th>CONTRIBUTING FACTOR VEHICLE 4</th>\n      <th>CONTRIBUTING FACTOR VEHICLE 5</th>\n      <th>COLLISION_ID</th>\n      <th>VEHICLE TYPE CODE 1</th>\n      <th>VEHICLE TYPE CODE 2</th>\n      <th>VEHICLE TYPE CODE 3</th>\n      <th>VEHICLE TYPE CODE 4</th>\n      <th>VEHICLE TYPE CODE 5</th>\n    </tr>\n  </thead>\n  <tbody>\n    <tr>\n      <th>0</th>\n      <td>09/11/2021</td>\n      <td>2:39</td>\n      <td>NaN</td>\n      <td>NaN</td>\n      <td>NaN</td>\n      <td>NaN</td>\n      <td>NaN</td>\n      <td>WHITESTONE EXPRESSWAY</td>\n      <td>20 AVENUE</td>\n      <td>NaN</td>\n      <td>...</td>\n      <td>Unspecified</td>\n      <td>NaN</td>\n      <td>NaN</td>\n      <td>NaN</td>\n      <td>4455765</td>\n      <td>Sedan</td>\n      <td>Sedan</td>\n      <td>NaN</td>\n      <td>NaN</td>\n      <td>NaN</td>\n    </tr>\n    <tr>\n      <th>1</th>\n      <td>03/26/2022</td>\n      <td>11:45</td>\n      <td>NaN</td>\n      <td>NaN</td>\n      <td>NaN</td>\n      <td>NaN</td>\n      <td>NaN</td>\n      <td>QUEENSBORO BRIDGE UPPER</td>\n      <td>NaN</td>\n      <td>NaN</td>\n      <td>...</td>\n      <td>NaN</td>\n      <td>NaN</td>\n      <td>NaN</td>\n      <td>NaN</td>\n      <td>4513547</td>\n      <td>Sedan</td>\n      <td>NaN</td>\n      <td>NaN</td>\n      <td>NaN</td>\n      <td>NaN</td>\n    </tr>\n    <tr>\n      <th>2</th>\n      <td>06/29/2022</td>\n      <td>6:55</td>\n      <td>NaN</td>\n      <td>NaN</td>\n      <td>NaN</td>\n      <td>NaN</td>\n      <td>NaN</td>\n      <td>THROGS NECK BRIDGE</td>\n      <td>NaN</td>\n      <td>NaN</td>\n      <td>...</td>\n      <td>Unspecified</td>\n      <td>NaN</td>\n      <td>NaN</td>\n      <td>NaN</td>\n      <td>4541903</td>\n      <td>Sedan</td>\n      <td>Pick-up Truck</td>\n      <td>NaN</td>\n      <td>NaN</td>\n      <td>NaN</td>\n    </tr>\n    <tr>\n      <th>3</th>\n      <td>09/11/2021</td>\n      <td>9:35</td>\n      <td>BROOKLYN</td>\n      <td>11208.0</td>\n      <td>40.667202</td>\n      <td>-73.866500</td>\n      <td>(40.667202, -73.8665)</td>\n      <td>NaN</td>\n      <td>NaN</td>\n      <td>1211      LORING AVENUE</td>\n      <td>...</td>\n      <td>NaN</td>\n      <td>NaN</td>\n      <td>NaN</td>\n      <td>NaN</td>\n      <td>4456314</td>\n      <td>Sedan</td>\n      <td>NaN</td>\n      <td>NaN</td>\n      <td>NaN</td>\n      <td>NaN</td>\n    </tr>\n    <tr>\n      <th>4</th>\n      <td>12/14/2021</td>\n      <td>8:13</td>\n      <td>BROOKLYN</td>\n      <td>11233.0</td>\n      <td>40.683304</td>\n      <td>-73.917274</td>\n      <td>(40.683304, -73.917274)</td>\n      <td>SARATOGA AVENUE</td>\n      <td>DECATUR STREET</td>\n      <td>NaN</td>\n      <td>...</td>\n      <td>NaN</td>\n      <td>NaN</td>\n      <td>NaN</td>\n      <td>NaN</td>\n      <td>4486609</td>\n      <td>NaN</td>\n      <td>NaN</td>\n      <td>NaN</td>\n      <td>NaN</td>\n      <td>NaN</td>\n    </tr>\n    <tr>\n      <th>...</th>\n      <td>...</td>\n      <td>...</td>\n      <td>...</td>\n      <td>...</td>\n      <td>...</td>\n      <td>...</td>\n      <td>...</td>\n      <td>...</td>\n      <td>...</td>\n      <td>...</td>\n      <td>...</td>\n      <td>...</td>\n      <td>...</td>\n      <td>...</td>\n      <td>...</td>\n      <td>...</td>\n      <td>...</td>\n      <td>...</td>\n      <td>...</td>\n      <td>...</td>\n      <td>...</td>\n    </tr>\n    <tr>\n      <th>1949625</th>\n      <td>11/29/2022</td>\n      <td>2:20</td>\n      <td>STATEN ISLAND</td>\n      <td>10305.0</td>\n      <td>40.611940</td>\n      <td>-74.070380</td>\n      <td>(40.61194, -74.07038)</td>\n      <td>NaN</td>\n      <td>NaN</td>\n      <td>255       HYLAN BOULEVARD</td>\n      <td>...</td>\n      <td>NaN</td>\n      <td>NaN</td>\n      <td>NaN</td>\n      <td>NaN</td>\n      <td>4585934</td>\n      <td>Sedan</td>\n      <td>NaN</td>\n      <td>NaN</td>\n      <td>NaN</td>\n      <td>NaN</td>\n    </tr>\n    <tr>\n      <th>1949626</th>\n      <td>11/29/2022</td>\n      <td>15:05</td>\n      <td>BROOKLYN</td>\n      <td>11220.0</td>\n      <td>40.639854</td>\n      <td>-74.012200</td>\n      <td>(40.639854, -74.0122)</td>\n      <td>57 STREET</td>\n      <td>6 AVENUE</td>\n      <td>NaN</td>\n      <td>...</td>\n      <td>Unspecified</td>\n      <td>NaN</td>\n      <td>NaN</td>\n      <td>NaN</td>\n      <td>4586337</td>\n      <td>Sedan</td>\n      <td>Distributo</td>\n      <td>NaN</td>\n      <td>NaN</td>\n      <td>NaN</td>\n    </tr>\n    <tr>\n      <th>1949627</th>\n      <td>11/24/2022</td>\n      <td>22:00</td>\n      <td>NaN</td>\n      <td>NaN</td>\n      <td>40.812073</td>\n      <td>-73.936040</td>\n      <td>(40.812073, -73.93604)</td>\n      <td>EAST 135 STREET</td>\n      <td>MADISON AVENUE</td>\n      <td>NaN</td>\n      <td>...</td>\n      <td>Unspecified</td>\n      <td>NaN</td>\n      <td>NaN</td>\n      <td>NaN</td>\n      <td>4586345</td>\n      <td>Station Wagon/Sport Utility Vehicle</td>\n      <td>NaN</td>\n      <td>NaN</td>\n      <td>NaN</td>\n      <td>NaN</td>\n    </tr>\n    <tr>\n      <th>1949628</th>\n      <td>10/18/2022</td>\n      <td>15:00</td>\n      <td>NaN</td>\n      <td>NaN</td>\n      <td>40.797035</td>\n      <td>-73.929825</td>\n      <td>(40.797035, -73.929825)</td>\n      <td>EAST 120 STREET</td>\n      <td>PLEASANT AVENUE</td>\n      <td>NaN</td>\n      <td>...</td>\n      <td>NaN</td>\n      <td>NaN</td>\n      <td>NaN</td>\n      <td>NaN</td>\n      <td>4586360</td>\n      <td>Station Wagon/Sport Utility Vehicle</td>\n      <td>NaN</td>\n      <td>NaN</td>\n      <td>NaN</td>\n      <td>NaN</td>\n    </tr>\n    <tr>\n      <th>1949629</th>\n      <td>11/29/2022</td>\n      <td>6:25</td>\n      <td>BROOKLYN</td>\n      <td>11210.0</td>\n      <td>40.625275</td>\n      <td>-73.946610</td>\n      <td>(40.625275, -73.94661)</td>\n      <td>NaN</td>\n      <td>NaN</td>\n      <td>2442      NOSTRAND AVENUE</td>\n      <td>...</td>\n      <td>Unspecified</td>\n      <td>Unspecified</td>\n      <td>NaN</td>\n      <td>NaN</td>\n      <td>4585982</td>\n      <td>Sedan</td>\n      <td>Station Wagon/Sport Utility Vehicle</td>\n      <td>Sedan</td>\n      <td>NaN</td>\n      <td>NaN</td>\n    </tr>\n  </tbody>\n</table>\n<p>1949630 rows × 29 columns</p>\n</div>"
     },
     "execution_count": 30,
     "metadata": {},
     "output_type": "execute_result"
    }
   ],
   "source": [
    "df_collisions = pd.read_csv(\"datasets/Motor_Vehicle_Collisions_-_Crashes.csv\")\n",
    "df_collisions"
   ],
   "metadata": {
    "collapsed": false,
    "pycharm": {
     "name": "#%%\n"
    }
   }
  },
  {
   "cell_type": "code",
   "execution_count": 31,
   "outputs": [],
   "source": [
    "# profile = ProfileReport(df_collisions, title=\"collisions Report\")\n",
    "# profile.to_file(\"collisions.html\")"
   ],
   "metadata": {
    "collapsed": false,
    "pycharm": {
     "name": "#%%\n"
    }
   }
  },
  {
   "cell_type": "code",
   "execution_count": 50,
   "outputs": [
    {
     "name": "stdout",
     "output_type": "stream",
     "text": [
      "Index(['EVNT_KEY', 'VIOLATION_DATE', 'VIOLATION_TIME', 'CHG_LAW_CD',\n",
      "       'VIOLATION_CODE', 'VEH_CATEGORY', 'CITY_NM', 'RPT_OWNING_CMD',\n",
      "       'X_COORD_CD', 'Y_COORD_CD', 'Latitude', 'Longitude', 'Location Point',\n",
      "       'JURIS_CD'],\n",
      "      dtype='object')\n",
      "Index(['CRASH DATE', 'CRASH TIME', 'BOROUGH', 'ZIP CODE', 'LATITUDE',\n",
      "       'LONGITUDE', 'LOCATION', 'ON STREET NAME', 'CROSS STREET NAME',\n",
      "       'OFF STREET NAME', 'NUMBER OF PERSONS INJURED',\n",
      "       'NUMBER OF PERSONS KILLED', 'NUMBER OF PEDESTRIANS INJURED',\n",
      "       'NUMBER OF PEDESTRIANS KILLED', 'NUMBER OF CYCLIST INJURED',\n",
      "       'NUMBER OF CYCLIST KILLED', 'NUMBER OF MOTORIST INJURED',\n",
      "       'NUMBER OF MOTORIST KILLED', 'CONTRIBUTING FACTOR VEHICLE 1',\n",
      "       'CONTRIBUTING FACTOR VEHICLE 2', 'CONTRIBUTING FACTOR VEHICLE 3',\n",
      "       'CONTRIBUTING FACTOR VEHICLE 4', 'CONTRIBUTING FACTOR VEHICLE 5',\n",
      "       'COLLISION_ID', 'VEHICLE TYPE CODE 1', 'VEHICLE TYPE CODE 2',\n",
      "       'VEHICLE TYPE CODE 3', 'VEHICLE TYPE CODE 4', 'VEHICLE TYPE CODE 5'],\n",
      "      dtype='object')\n"
     ]
    },
    {
     "data": {
      "text/plain": "Empty DataFrame\nColumns: [CRASH DATE, CRASH TIME, BOROUGH, ZIP CODE, LATITUDE, LONGITUDE, LOCATION, ON STREET NAME, CROSS STREET NAME, OFF STREET NAME, NUMBER OF PERSONS INJURED, NUMBER OF PERSONS KILLED, NUMBER OF PEDESTRIANS INJURED, NUMBER OF PEDESTRIANS KILLED, NUMBER OF CYCLIST INJURED, NUMBER OF CYCLIST KILLED, NUMBER OF MOTORIST INJURED, NUMBER OF MOTORIST KILLED, CONTRIBUTING FACTOR VEHICLE 1, CONTRIBUTING FACTOR VEHICLE 2, CONTRIBUTING FACTOR VEHICLE 3, CONTRIBUTING FACTOR VEHICLE 4, CONTRIBUTING FACTOR VEHICLE 5, COLLISION_ID, VEHICLE TYPE CODE 1, VEHICLE TYPE CODE 2, VEHICLE TYPE CODE 3, VEHICLE TYPE CODE 4, VEHICLE TYPE CODE 5]\nIndex: []\n\n[0 rows x 29 columns]",
      "text/html": "<div>\n<style scoped>\n    .dataframe tbody tr th:only-of-type {\n        vertical-align: middle;\n    }\n\n    .dataframe tbody tr th {\n        vertical-align: top;\n    }\n\n    .dataframe thead th {\n        text-align: right;\n    }\n</style>\n<table border=\"1\" class=\"dataframe\">\n  <thead>\n    <tr style=\"text-align: right;\">\n      <th></th>\n      <th>CRASH DATE</th>\n      <th>CRASH TIME</th>\n      <th>BOROUGH</th>\n      <th>ZIP CODE</th>\n      <th>LATITUDE</th>\n      <th>LONGITUDE</th>\n      <th>LOCATION</th>\n      <th>ON STREET NAME</th>\n      <th>CROSS STREET NAME</th>\n      <th>OFF STREET NAME</th>\n      <th>...</th>\n      <th>CONTRIBUTING FACTOR VEHICLE 2</th>\n      <th>CONTRIBUTING FACTOR VEHICLE 3</th>\n      <th>CONTRIBUTING FACTOR VEHICLE 4</th>\n      <th>CONTRIBUTING FACTOR VEHICLE 5</th>\n      <th>COLLISION_ID</th>\n      <th>VEHICLE TYPE CODE 1</th>\n      <th>VEHICLE TYPE CODE 2</th>\n      <th>VEHICLE TYPE CODE 3</th>\n      <th>VEHICLE TYPE CODE 4</th>\n      <th>VEHICLE TYPE CODE 5</th>\n    </tr>\n  </thead>\n  <tbody>\n  </tbody>\n</table>\n<p>0 rows × 29 columns</p>\n</div>"
     },
     "execution_count": 50,
     "metadata": {},
     "output_type": "execute_result"
    }
   ],
   "source": [
    "print(df_summons.columns)\n",
    "print(df_collisions.columns)"
   ],
   "metadata": {
    "collapsed": false,
    "pycharm": {
     "name": "#%%\n"
    }
   }
  },
  {
   "cell_type": "markdown",
   "source": [],
   "metadata": {
    "collapsed": false
   }
  },
  {
   "cell_type": "markdown",
   "source": [
    "We decided to examine the influence of \"vision zero\" on [collisions](https://data.cityofnewyork.us/Public-Safety/Motor-Vehicle-Collisions-Crashes/h9gi-nx95).\n",
    "To be more specific we want to look at some databases which include information regarding changes that were\n",
    " done due to vision zero program. Some examples:\n",
    " [speed humps](https://data.cityofnewyork.us/Transportation/VZV_Speed-Humps/7f9e-jic4)\n",
    " [speed limits](https://data.cityofnewyork.us/Transportation/VZV_Speed-Limits/7n5j-865y) and [historic](https://data.cityofnewyork.us/Public-Safety/NYPD-B-Summons-Historic-/bme5-7ty4)\n",
    " [traffic violations](https://data.cityofnewyork.us/Public-Safety/NYPD-B-Summons-Year-to-Date-/57p3-pdcj)\n",
    "We were thinking about some possible outputs:\n",
    "1. What changes would be the most effective in order to lower the accidents rate\n",
    "2. what changes that were done were effective.\n",
    "3. check if there is any general slowing down in the accidents rate (considering all the outer factors).\n",
    "\n",
    "Another important decision is to decided what is accidents rate?\n",
    "1. amount of accidents\n",
    "2. amount of deadly accidents\n",
    "3. severity of accidents\n",
    "4. maybe focusing one cause of accidents"
   ],
   "metadata": {
    "collapsed": false
   }
  },
  {
   "cell_type": "markdown",
   "source": [
    "search this in new york data: VZV_Street Improvement Projects (SIPs) intersections\n",
    "We should map the violations.\n",
    "Decide if to focus on a specific type of accidents, maybe just some intersections?\n",
    "Separate the types of violations, maybe look at the amount of enforcement in a region or a road.\n",
    "Remove dome of the rare violations or put them in bins.\n",
    "Try to see if there is a connection between the violation type to the cause for the accident.\n",
    "Think about the change in time and space of the variables.\n",
    "Try maybe to map dangerous levels for different regions.\n",
    "look at some papers [here](https://scholar.google.co.il/scholar?q=kernel+density+accidents&hl=iw&as_sdt=0&as_vis=1&oi=scholart) example for a good [paper](https://www.sciencedirect.com/science/article/abs/pii/S0001457508002340).\n",
    "Look further into the datasets we have (vision zero, collisions, **violations**)"
   ],
   "metadata": {
    "collapsed": false
   }
  },
  {
   "cell_type": "code",
   "execution_count": null,
   "outputs": [],
   "source": [
    "print(\"hey\")"
   ],
   "metadata": {
    "collapsed": false,
    "pycharm": {
     "name": "#%%\n"
    }
   }
  },
  {
   "cell_type": "markdown",
   "source": [
    "[collisions](https://data.cityofnewyork.us/Public-Safety/Motor-Vehicle-Collisions-Crashes/h9gi-nx95)\n",
    "[speed humps](https://data.cityofnewyork.us/Transportation/VZV_Speed-Humps/7f9e-jic4)\n",
    "[speed limits](https://data.cityofnewyork.us/Transportation/VZV_Speed-Limits/7n5j-865y)\n",
    "[historic](https://data.cityofnewyork.us/Public-Safety/NYPD-B-Summons-Historic-/bme5-7ty4)\n",
    "[traffic violations](https://data.cityofnewyork.us/Public-Safety/NYPD-B-Summons-Year-to-Date-/57p3-pdcj)"
   ],
   "metadata": {
    "collapsed": false
   }
  },
  {
   "cell_type": "code",
   "execution_count": null,
   "outputs": [],
   "source": [],
   "metadata": {
    "collapsed": false,
    "pycharm": {
     "name": "#%%\n"
    }
   }
  }
 ],
 "metadata": {
  "kernelspec": {
   "display_name": "Python 3",
   "language": "python",
   "name": "python3"
  },
  "language_info": {
   "codemirror_mode": {
    "name": "ipython",
    "version": 2
   },
   "file_extension": ".py",
   "mimetype": "text/x-python",
   "name": "python",
   "nbconvert_exporter": "python",
   "pygments_lexer": "ipython2",
   "version": "2.7.6"
  }
 },
 "nbformat": 4,
 "nbformat_minor": 0
}