{
 "cells": [
  {
   "cell_type": "code",
   "execution_count": 68,
   "outputs": [],
   "source": [
    "import numpy as np\n",
    "import pandas as pd\n",
    "from utils import ours_read_csv\n",
    "from scipy.stats import chi2_contingency\n",
    "from scipy.stats.contingency import expected_freq\n",
    "\n",
    "\n",
    "DIR_PATH_TOM = \"C:\\\\Users\\\\ttomn\\\\OneDrive\\\\Desktop\\\\data-science-transportation-research\"\n",
    "DIR_PATH_MAX = \"C:\\\\Users\\\\maxba\\\\Desktop\\\\Study\\\\Third Year\\\\Final Project\\\\data-science-transportation-research\""
   ],
   "metadata": {
    "collapsed": false,
    "pycharm": {
     "name": "#%%\n"
    }
   }
  },
  {
   "cell_type": "code",
   "execution_count": 3,
   "metadata": {
    "collapsed": true
   },
   "outputs": [
    {
     "data": {
      "text/plain": "         NUMBER OF PERSONS INJURED  NUMBER OF PERSONS KILLED  \\\n0                              0.0                       0.0   \n1                              0.0                       0.0   \n2                              0.0                       0.0   \n3                              2.0                       0.0   \n4                              0.0                       0.0   \n...                            ...                       ...   \n1750976                        5.0                       0.0   \n1750977                        0.0                       0.0   \n1750978                        0.0                       0.0   \n1750979                        0.0                       0.0   \n1750980                        1.0                       0.0   \n\n         NUMBER OF PEDESTRIANS INJURED  NUMBER OF PEDESTRIANS KILLED  \\\n0                                    0                             0   \n1                                    0                             0   \n2                                    0                             0   \n3                                    0                             0   \n4                                    0                             0   \n...                                ...                           ...   \n1750976                              0                             0   \n1750977                              0                             0   \n1750978                              0                             0   \n1750979                              0                             0   \n1750980                              0                             0   \n\n         NUMBER OF CYCLIST INJURED  NUMBER OF CYCLIST KILLED  \\\n0                                0                         0   \n1                                0                         0   \n2                                0                         0   \n3                                0                         0   \n4                                0                         0   \n...                            ...                       ...   \n1750976                          0                         0   \n1750977                          0                         0   \n1750978                          0                         0   \n1750979                          0                         0   \n1750980                          1                         0   \n\n         NUMBER OF MOTORIST INJURED  NUMBER OF MOTORIST KILLED  \\\n0                                 0                          0   \n1                                 0                          0   \n2                                 0                          0   \n3                                 2                          0   \n4                                 0                          0   \n...                             ...                        ...   \n1750976                           5                          0   \n1750977                           0                          0   \n1750978                           0                          0   \n1750979                           0                          0   \n1750980                           0                          0   \n\n          CONTRIBUTING FACTOR VEHICLE 1 CONTRIBUTING FACTOR VEHICLE 2  ...  \\\n0                           Unspecified                           NaN  ...   \n1                                   NaN                           NaN  ...   \n2                   Passing Too Closely                   Unspecified  ...   \n3                           Unspecified                   Unspecified  ...   \n4                   Driver Inexperience                   Unspecified  ...   \n...                                 ...                           ...  ...   \n1750976  Driver Inattention/Distraction                   Unspecified  ...   \n1750977                     Unspecified                           NaN  ...   \n1750978           Following Too Closely                   Unspecified  ...   \n1750979  Driver Inattention/Distraction                   Unspecified  ...   \n1750980   Failure to Yield Right-of-Way                   Unspecified  ...   \n\n        VEHICLE TYPE CODE 5  \\\n0                       NaN   \n1                       NaN   \n2                       NaN   \n3                       NaN   \n4                       NaN   \n...                     ...   \n1750976                 NaN   \n1750977                 NaN   \n1750978                 NaN   \n1750979                 NaN   \n1750980                 NaN   \n\n                                                    STREET ST_INDEX MONTH  \\\n0        MULTILINESTRING ((-73.86788006957455 40.666996...    68241     9   \n1        MULTILINESTRING ((-73.92001111887537 40.682986...    43706    12   \n2        MULTILINESTRING ((-73.95697419399846 40.708904...    46205    12   \n3        MULTILINESTRING ((-73.83109251779445 40.867495...   106876    12   \n4        MULTILINESTRING ((-73.89774520676018 40.671615...    63315    12   \n...                                                    ...      ...   ...   \n1750976  MULTILINESTRING ((-73.9034470105308 40.7499318...     8295     4   \n1750977  MULTILINESTRING ((-73.84549715806428 40.790831...    26247     4   \n1750978  MULTILINESTRING ((-73.78574700093039 40.672379...     7343     4   \n1750979  MULTILINESTRING ((-73.99411856911257 40.735312...     1560     3   \n1750980  MULTILINESTRING ((-73.98252449543857 40.723277...     3534     4   \n\n         YEAR DAY DAY_OF_WEEK WEEK_NUMBER HOUR  MINUTE  \n0        2021  11           5          36    9      35  \n1        2021  14           1          50    8      13  \n2        2021  14           1          50   17       5  \n3        2021  14           1          50    8      17  \n4        2021  14           1          50   21      10  \n...       ...  ..         ...         ...  ...     ...  \n1750976  2023   4           1          14   22      25  \n1750977  2023   4           1          14   21      40  \n1750978  2023   4           1          14   20      10  \n1750979  2023  29           2          13   11       5  \n1750980  2023   4           1          14   20      50  \n\n[1750981 rows x 27 columns]",
      "text/html": "<div>\n<style scoped>\n    .dataframe tbody tr th:only-of-type {\n        vertical-align: middle;\n    }\n\n    .dataframe tbody tr th {\n        vertical-align: top;\n    }\n\n    .dataframe thead th {\n        text-align: right;\n    }\n</style>\n<table border=\"1\" class=\"dataframe\">\n  <thead>\n    <tr style=\"text-align: right;\">\n      <th></th>\n      <th>NUMBER OF PERSONS INJURED</th>\n      <th>NUMBER OF PERSONS KILLED</th>\n      <th>NUMBER OF PEDESTRIANS INJURED</th>\n      <th>NUMBER OF PEDESTRIANS KILLED</th>\n      <th>NUMBER OF CYCLIST INJURED</th>\n      <th>NUMBER OF CYCLIST KILLED</th>\n      <th>NUMBER OF MOTORIST INJURED</th>\n      <th>NUMBER OF MOTORIST KILLED</th>\n      <th>CONTRIBUTING FACTOR VEHICLE 1</th>\n      <th>CONTRIBUTING FACTOR VEHICLE 2</th>\n      <th>...</th>\n      <th>VEHICLE TYPE CODE 5</th>\n      <th>STREET</th>\n      <th>ST_INDEX</th>\n      <th>MONTH</th>\n      <th>YEAR</th>\n      <th>DAY</th>\n      <th>DAY_OF_WEEK</th>\n      <th>WEEK_NUMBER</th>\n      <th>HOUR</th>\n      <th>MINUTE</th>\n    </tr>\n  </thead>\n  <tbody>\n    <tr>\n      <th>0</th>\n      <td>0.0</td>\n      <td>0.0</td>\n      <td>0</td>\n      <td>0</td>\n      <td>0</td>\n      <td>0</td>\n      <td>0</td>\n      <td>0</td>\n      <td>Unspecified</td>\n      <td>NaN</td>\n      <td>...</td>\n      <td>NaN</td>\n      <td>MULTILINESTRING ((-73.86788006957455 40.666996...</td>\n      <td>68241</td>\n      <td>9</td>\n      <td>2021</td>\n      <td>11</td>\n      <td>5</td>\n      <td>36</td>\n      <td>9</td>\n      <td>35</td>\n    </tr>\n    <tr>\n      <th>1</th>\n      <td>0.0</td>\n      <td>0.0</td>\n      <td>0</td>\n      <td>0</td>\n      <td>0</td>\n      <td>0</td>\n      <td>0</td>\n      <td>0</td>\n      <td>NaN</td>\n      <td>NaN</td>\n      <td>...</td>\n      <td>NaN</td>\n      <td>MULTILINESTRING ((-73.92001111887537 40.682986...</td>\n      <td>43706</td>\n      <td>12</td>\n      <td>2021</td>\n      <td>14</td>\n      <td>1</td>\n      <td>50</td>\n      <td>8</td>\n      <td>13</td>\n    </tr>\n    <tr>\n      <th>2</th>\n      <td>0.0</td>\n      <td>0.0</td>\n      <td>0</td>\n      <td>0</td>\n      <td>0</td>\n      <td>0</td>\n      <td>0</td>\n      <td>0</td>\n      <td>Passing Too Closely</td>\n      <td>Unspecified</td>\n      <td>...</td>\n      <td>NaN</td>\n      <td>MULTILINESTRING ((-73.95697419399846 40.708904...</td>\n      <td>46205</td>\n      <td>12</td>\n      <td>2021</td>\n      <td>14</td>\n      <td>1</td>\n      <td>50</td>\n      <td>17</td>\n      <td>5</td>\n    </tr>\n    <tr>\n      <th>3</th>\n      <td>2.0</td>\n      <td>0.0</td>\n      <td>0</td>\n      <td>0</td>\n      <td>0</td>\n      <td>0</td>\n      <td>2</td>\n      <td>0</td>\n      <td>Unspecified</td>\n      <td>Unspecified</td>\n      <td>...</td>\n      <td>NaN</td>\n      <td>MULTILINESTRING ((-73.83109251779445 40.867495...</td>\n      <td>106876</td>\n      <td>12</td>\n      <td>2021</td>\n      <td>14</td>\n      <td>1</td>\n      <td>50</td>\n      <td>8</td>\n      <td>17</td>\n    </tr>\n    <tr>\n      <th>4</th>\n      <td>0.0</td>\n      <td>0.0</td>\n      <td>0</td>\n      <td>0</td>\n      <td>0</td>\n      <td>0</td>\n      <td>0</td>\n      <td>0</td>\n      <td>Driver Inexperience</td>\n      <td>Unspecified</td>\n      <td>...</td>\n      <td>NaN</td>\n      <td>MULTILINESTRING ((-73.89774520676018 40.671615...</td>\n      <td>63315</td>\n      <td>12</td>\n      <td>2021</td>\n      <td>14</td>\n      <td>1</td>\n      <td>50</td>\n      <td>21</td>\n      <td>10</td>\n    </tr>\n    <tr>\n      <th>...</th>\n      <td>...</td>\n      <td>...</td>\n      <td>...</td>\n      <td>...</td>\n      <td>...</td>\n      <td>...</td>\n      <td>...</td>\n      <td>...</td>\n      <td>...</td>\n      <td>...</td>\n      <td>...</td>\n      <td>...</td>\n      <td>...</td>\n      <td>...</td>\n      <td>...</td>\n      <td>...</td>\n      <td>...</td>\n      <td>...</td>\n      <td>...</td>\n      <td>...</td>\n      <td>...</td>\n    </tr>\n    <tr>\n      <th>1750976</th>\n      <td>5.0</td>\n      <td>0.0</td>\n      <td>0</td>\n      <td>0</td>\n      <td>0</td>\n      <td>0</td>\n      <td>5</td>\n      <td>0</td>\n      <td>Driver Inattention/Distraction</td>\n      <td>Unspecified</td>\n      <td>...</td>\n      <td>NaN</td>\n      <td>MULTILINESTRING ((-73.9034470105308 40.7499318...</td>\n      <td>8295</td>\n      <td>4</td>\n      <td>2023</td>\n      <td>4</td>\n      <td>1</td>\n      <td>14</td>\n      <td>22</td>\n      <td>25</td>\n    </tr>\n    <tr>\n      <th>1750977</th>\n      <td>0.0</td>\n      <td>0.0</td>\n      <td>0</td>\n      <td>0</td>\n      <td>0</td>\n      <td>0</td>\n      <td>0</td>\n      <td>0</td>\n      <td>Unspecified</td>\n      <td>NaN</td>\n      <td>...</td>\n      <td>NaN</td>\n      <td>MULTILINESTRING ((-73.84549715806428 40.790831...</td>\n      <td>26247</td>\n      <td>4</td>\n      <td>2023</td>\n      <td>4</td>\n      <td>1</td>\n      <td>14</td>\n      <td>21</td>\n      <td>40</td>\n    </tr>\n    <tr>\n      <th>1750978</th>\n      <td>0.0</td>\n      <td>0.0</td>\n      <td>0</td>\n      <td>0</td>\n      <td>0</td>\n      <td>0</td>\n      <td>0</td>\n      <td>0</td>\n      <td>Following Too Closely</td>\n      <td>Unspecified</td>\n      <td>...</td>\n      <td>NaN</td>\n      <td>MULTILINESTRING ((-73.78574700093039 40.672379...</td>\n      <td>7343</td>\n      <td>4</td>\n      <td>2023</td>\n      <td>4</td>\n      <td>1</td>\n      <td>14</td>\n      <td>20</td>\n      <td>10</td>\n    </tr>\n    <tr>\n      <th>1750979</th>\n      <td>0.0</td>\n      <td>0.0</td>\n      <td>0</td>\n      <td>0</td>\n      <td>0</td>\n      <td>0</td>\n      <td>0</td>\n      <td>0</td>\n      <td>Driver Inattention/Distraction</td>\n      <td>Unspecified</td>\n      <td>...</td>\n      <td>NaN</td>\n      <td>MULTILINESTRING ((-73.99411856911257 40.735312...</td>\n      <td>1560</td>\n      <td>3</td>\n      <td>2023</td>\n      <td>29</td>\n      <td>2</td>\n      <td>13</td>\n      <td>11</td>\n      <td>5</td>\n    </tr>\n    <tr>\n      <th>1750980</th>\n      <td>1.0</td>\n      <td>0.0</td>\n      <td>0</td>\n      <td>0</td>\n      <td>1</td>\n      <td>0</td>\n      <td>0</td>\n      <td>0</td>\n      <td>Failure to Yield Right-of-Way</td>\n      <td>Unspecified</td>\n      <td>...</td>\n      <td>NaN</td>\n      <td>MULTILINESTRING ((-73.98252449543857 40.723277...</td>\n      <td>3534</td>\n      <td>4</td>\n      <td>2023</td>\n      <td>4</td>\n      <td>1</td>\n      <td>14</td>\n      <td>20</td>\n      <td>50</td>\n    </tr>\n  </tbody>\n</table>\n<p>1750981 rows × 27 columns</p>\n</div>"
     },
     "execution_count": 3,
     "metadata": {},
     "output_type": "execute_result"
    }
   ],
   "source": [
    "df = ours_read_csv(f\"{DIR_PATH_TOM}\\\\timed_with_streets_not_na_Motor_Vehicle_Collisions_-_Crashes.csv\")\n",
    "df"
   ]
  },
  {
   "cell_type": "code",
   "execution_count": 7,
   "outputs": [
    {
     "data": {
      "text/plain": "ST_INDEX\n32885       1\n29742       1\n91548       1\n75445       1\n11095       1\n         ... \n9821      935\n61050     953\n65203     959\n38565    1003\n45576    1101\nLength: 75996, dtype: int64"
     },
     "execution_count": 7,
     "metadata": {},
     "output_type": "execute_result"
    }
   ],
   "source": [
    "df.groupby(['ST_INDEX']).size().sort_values()"
   ],
   "metadata": {
    "collapsed": false,
    "pycharm": {
     "name": "#%%\n"
    }
   }
  },
  {
   "cell_type": "code",
   "execution_count": 16,
   "outputs": [],
   "source": [
    "agg_df = ours_read_csv(f\"{DIR_PATH_TOM}\\\\agg_timed_with_streets_not_na_Motor_Vehicle_Collisions_-_Crashes.csv\")\n"
   ],
   "metadata": {
    "collapsed": false,
    "pycharm": {
     "name": "#%%\n"
    }
   }
  },
  {
   "cell_type": "code",
   "execution_count": 56,
   "outputs": [
    {
     "data": {
      "text/plain": "         ST_INDEX  YEAR  MONTH  AMOUNT_ST_INDEX_YEAR_MONTH\n1189431    120946  2013      1                           5\n1189432    120946  2013      2                           4\n1189433    120946  2013      3                           7\n1189434    120946  2013      4                           4\n1189435    120946  2013      5                           5\n...           ...   ...    ...                         ...\n1189533    120946  2022      4                           1\n1189534    120946  2022      5                           1\n1189535    120946  2022      9                           1\n1189536    120946  2022     10                           1\n1189537    120946  2022     11                           1\n\n[107 rows x 4 columns]",
      "text/html": "<div>\n<style scoped>\n    .dataframe tbody tr th:only-of-type {\n        vertical-align: middle;\n    }\n\n    .dataframe tbody tr th {\n        vertical-align: top;\n    }\n\n    .dataframe thead th {\n        text-align: right;\n    }\n</style>\n<table border=\"1\" class=\"dataframe\">\n  <thead>\n    <tr style=\"text-align: right;\">\n      <th></th>\n      <th>ST_INDEX</th>\n      <th>YEAR</th>\n      <th>MONTH</th>\n      <th>AMOUNT_ST_INDEX_YEAR_MONTH</th>\n    </tr>\n  </thead>\n  <tbody>\n    <tr>\n      <th>1189431</th>\n      <td>120946</td>\n      <td>2013</td>\n      <td>1</td>\n      <td>5</td>\n    </tr>\n    <tr>\n      <th>1189432</th>\n      <td>120946</td>\n      <td>2013</td>\n      <td>2</td>\n      <td>4</td>\n    </tr>\n    <tr>\n      <th>1189433</th>\n      <td>120946</td>\n      <td>2013</td>\n      <td>3</td>\n      <td>7</td>\n    </tr>\n    <tr>\n      <th>1189434</th>\n      <td>120946</td>\n      <td>2013</td>\n      <td>4</td>\n      <td>4</td>\n    </tr>\n    <tr>\n      <th>1189435</th>\n      <td>120946</td>\n      <td>2013</td>\n      <td>5</td>\n      <td>5</td>\n    </tr>\n    <tr>\n      <th>...</th>\n      <td>...</td>\n      <td>...</td>\n      <td>...</td>\n      <td>...</td>\n    </tr>\n    <tr>\n      <th>1189533</th>\n      <td>120946</td>\n      <td>2022</td>\n      <td>4</td>\n      <td>1</td>\n    </tr>\n    <tr>\n      <th>1189534</th>\n      <td>120946</td>\n      <td>2022</td>\n      <td>5</td>\n      <td>1</td>\n    </tr>\n    <tr>\n      <th>1189535</th>\n      <td>120946</td>\n      <td>2022</td>\n      <td>9</td>\n      <td>1</td>\n    </tr>\n    <tr>\n      <th>1189536</th>\n      <td>120946</td>\n      <td>2022</td>\n      <td>10</td>\n      <td>1</td>\n    </tr>\n    <tr>\n      <th>1189537</th>\n      <td>120946</td>\n      <td>2022</td>\n      <td>11</td>\n      <td>1</td>\n    </tr>\n  </tbody>\n</table>\n<p>107 rows × 4 columns</p>\n</div>"
     },
     "execution_count": 56,
     "metadata": {},
     "output_type": "execute_result"
    }
   ],
   "source": [
    "one_street = agg_df[agg_df[\"ST_INDEX\"] == 120946]\n",
    "one_street = one_street[(one_street[\"YEAR\"]<2023)&(one_street[\"YEAR\"]>2012)]\n",
    "one_street"
   ],
   "metadata": {
    "collapsed": false,
    "pycharm": {
     "name": "#%%\n"
    }
   }
  },
  {
   "cell_type": "code",
   "execution_count": 57,
   "outputs": [
    {
     "data": {
      "text/plain": "MONTH   1    2    3    4     5    6    7    8    9    10   11   12\nYEAR                                                              \n2013   5.0  4.0  7.0  4.0   5.0  6.0  4.0  6.0  5.0  6.0  6.0  2.0\n2014   3.0  1.0  2.0  6.0   1.0  7.0  1.0  6.0  3.0  3.0  3.0  5.0\n2015   4.0  5.0  6.0  2.0   4.0  4.0  4.0  3.0  7.0  5.0  1.0  2.0\n2016   6.0  3.0  3.0  1.0   3.0  5.0  6.0  5.0  3.0  4.0  4.0  3.0\n2017   2.0  3.0  5.0  4.0   6.0  6.0  6.0  7.0  6.0  6.0  3.0  6.0\n2018   9.0  3.0  5.0  7.0  10.0  7.0  5.0  2.0  1.0  6.0  4.0  6.0\n2019   3.0  3.0  3.0  8.0   5.0  4.0  4.0  4.0  5.0  4.0  1.0  5.0\n2020   2.0  2.0  1.0  1.0   0.0  0.0  2.0  1.0  0.0  1.0  1.0  1.0\n2021   1.0  1.0  0.0  1.0   1.0  0.0  0.0  1.0  1.0  0.0  1.0  2.0\n2022   0.0  0.0  1.0  1.0   1.0  0.0  0.0  0.0  1.0  1.0  1.0  0.0",
      "text/html": "<div>\n<style scoped>\n    .dataframe tbody tr th:only-of-type {\n        vertical-align: middle;\n    }\n\n    .dataframe tbody tr th {\n        vertical-align: top;\n    }\n\n    .dataframe thead th {\n        text-align: right;\n    }\n</style>\n<table border=\"1\" class=\"dataframe\">\n  <thead>\n    <tr style=\"text-align: right;\">\n      <th>MONTH</th>\n      <th>1</th>\n      <th>2</th>\n      <th>3</th>\n      <th>4</th>\n      <th>5</th>\n      <th>6</th>\n      <th>7</th>\n      <th>8</th>\n      <th>9</th>\n      <th>10</th>\n      <th>11</th>\n      <th>12</th>\n    </tr>\n    <tr>\n      <th>YEAR</th>\n      <th></th>\n      <th></th>\n      <th></th>\n      <th></th>\n      <th></th>\n      <th></th>\n      <th></th>\n      <th></th>\n      <th></th>\n      <th></th>\n      <th></th>\n      <th></th>\n    </tr>\n  </thead>\n  <tbody>\n    <tr>\n      <th>2013</th>\n      <td>5.0</td>\n      <td>4.0</td>\n      <td>7.0</td>\n      <td>4.0</td>\n      <td>5.0</td>\n      <td>6.0</td>\n      <td>4.0</td>\n      <td>6.0</td>\n      <td>5.0</td>\n      <td>6.0</td>\n      <td>6.0</td>\n      <td>2.0</td>\n    </tr>\n    <tr>\n      <th>2014</th>\n      <td>3.0</td>\n      <td>1.0</td>\n      <td>2.0</td>\n      <td>6.0</td>\n      <td>1.0</td>\n      <td>7.0</td>\n      <td>1.0</td>\n      <td>6.0</td>\n      <td>3.0</td>\n      <td>3.0</td>\n      <td>3.0</td>\n      <td>5.0</td>\n    </tr>\n    <tr>\n      <th>2015</th>\n      <td>4.0</td>\n      <td>5.0</td>\n      <td>6.0</td>\n      <td>2.0</td>\n      <td>4.0</td>\n      <td>4.0</td>\n      <td>4.0</td>\n      <td>3.0</td>\n      <td>7.0</td>\n      <td>5.0</td>\n      <td>1.0</td>\n      <td>2.0</td>\n    </tr>\n    <tr>\n      <th>2016</th>\n      <td>6.0</td>\n      <td>3.0</td>\n      <td>3.0</td>\n      <td>1.0</td>\n      <td>3.0</td>\n      <td>5.0</td>\n      <td>6.0</td>\n      <td>5.0</td>\n      <td>3.0</td>\n      <td>4.0</td>\n      <td>4.0</td>\n      <td>3.0</td>\n    </tr>\n    <tr>\n      <th>2017</th>\n      <td>2.0</td>\n      <td>3.0</td>\n      <td>5.0</td>\n      <td>4.0</td>\n      <td>6.0</td>\n      <td>6.0</td>\n      <td>6.0</td>\n      <td>7.0</td>\n      <td>6.0</td>\n      <td>6.0</td>\n      <td>3.0</td>\n      <td>6.0</td>\n    </tr>\n    <tr>\n      <th>2018</th>\n      <td>9.0</td>\n      <td>3.0</td>\n      <td>5.0</td>\n      <td>7.0</td>\n      <td>10.0</td>\n      <td>7.0</td>\n      <td>5.0</td>\n      <td>2.0</td>\n      <td>1.0</td>\n      <td>6.0</td>\n      <td>4.0</td>\n      <td>6.0</td>\n    </tr>\n    <tr>\n      <th>2019</th>\n      <td>3.0</td>\n      <td>3.0</td>\n      <td>3.0</td>\n      <td>8.0</td>\n      <td>5.0</td>\n      <td>4.0</td>\n      <td>4.0</td>\n      <td>4.0</td>\n      <td>5.0</td>\n      <td>4.0</td>\n      <td>1.0</td>\n      <td>5.0</td>\n    </tr>\n    <tr>\n      <th>2020</th>\n      <td>2.0</td>\n      <td>2.0</td>\n      <td>1.0</td>\n      <td>1.0</td>\n      <td>0.0</td>\n      <td>0.0</td>\n      <td>2.0</td>\n      <td>1.0</td>\n      <td>0.0</td>\n      <td>1.0</td>\n      <td>1.0</td>\n      <td>1.0</td>\n    </tr>\n    <tr>\n      <th>2021</th>\n      <td>1.0</td>\n      <td>1.0</td>\n      <td>0.0</td>\n      <td>1.0</td>\n      <td>1.0</td>\n      <td>0.0</td>\n      <td>0.0</td>\n      <td>1.0</td>\n      <td>1.0</td>\n      <td>0.0</td>\n      <td>1.0</td>\n      <td>2.0</td>\n    </tr>\n    <tr>\n      <th>2022</th>\n      <td>0.0</td>\n      <td>0.0</td>\n      <td>1.0</td>\n      <td>1.0</td>\n      <td>1.0</td>\n      <td>0.0</td>\n      <td>0.0</td>\n      <td>0.0</td>\n      <td>1.0</td>\n      <td>1.0</td>\n      <td>1.0</td>\n      <td>0.0</td>\n    </tr>\n  </tbody>\n</table>\n</div>"
     },
     "execution_count": 57,
     "metadata": {},
     "output_type": "execute_result"
    }
   ],
   "source": [
    "one_street_pivot = one_street.pivot_table(index='YEAR', columns='MONTH', values='AMOUNT_ST_INDEX_YEAR_MONTH',\n",
    "                                  aggfunc='sum').fillna(0)\n",
    "one_street_pivot"
   ],
   "metadata": {
    "collapsed": false,
    "pycharm": {
     "name": "#%%\n"
    }
   }
  },
  {
   "cell_type": "code",
   "execution_count": 58,
   "outputs": [
    {
     "data": {
      "text/plain": "(72.56083869685199,\n 0.9788121162186892,\n 99,\n array([[5.3164557 , 3.79746835, 5.01265823, 5.3164557 , 5.46835443,\n         5.92405063, 4.86075949, 5.3164557 , 4.86075949, 5.46835443,\n         3.79746835, 4.86075949],\n        [3.63291139, 2.59493671, 3.42531646, 3.63291139, 3.73670886,\n         4.04810127, 3.32151899, 3.63291139, 3.32151899, 3.73670886,\n         2.59493671, 3.32151899],\n        [4.16455696, 2.97468354, 3.92658228, 4.16455696, 4.2835443 ,\n         4.64050633, 3.80759494, 4.16455696, 3.80759494, 4.2835443 ,\n         2.97468354, 3.80759494],\n        [4.07594937, 2.91139241, 3.84303797, 4.07594937, 4.19240506,\n         4.54177215, 3.72658228, 4.07594937, 3.72658228, 4.19240506,\n         2.91139241, 3.72658228],\n        [5.3164557 , 3.79746835, 5.01265823, 5.3164557 , 5.46835443,\n         5.92405063, 4.86075949, 5.3164557 , 4.86075949, 5.46835443,\n         3.79746835, 4.86075949],\n        [5.75949367, 4.11392405, 5.43037975, 5.75949367, 5.92405063,\n         6.41772152, 5.26582278, 5.75949367, 5.26582278, 5.92405063,\n         4.11392405, 5.26582278],\n        [4.34177215, 3.10126582, 4.09367089, 4.34177215, 4.46582278,\n         4.83797468, 3.96962025, 4.34177215, 3.96962025, 4.46582278,\n         3.10126582, 3.96962025],\n        [1.06329114, 0.75949367, 1.00253165, 1.06329114, 1.09367089,\n         1.18481013, 0.9721519 , 1.06329114, 0.9721519 , 1.09367089,\n         0.75949367, 0.9721519 ],\n        [0.79746835, 0.56962025, 0.75189873, 0.79746835, 0.82025316,\n         0.88860759, 0.72911392, 0.79746835, 0.72911392, 0.82025316,\n         0.56962025, 0.72911392],\n        [0.53164557, 0.37974684, 0.50126582, 0.53164557, 0.54683544,\n         0.59240506, 0.48607595, 0.53164557, 0.48607595, 0.54683544,\n         0.37974684, 0.48607595]]))"
     },
     "execution_count": 58,
     "metadata": {},
     "output_type": "execute_result"
    }
   ],
   "source": [
    "result = chi2_contingency(one_street_pivot)\n",
    "result"
   ],
   "metadata": {
    "collapsed": false,
    "pycharm": {
     "name": "#%%\n"
    }
   }
  },
  {
   "cell_type": "code",
   "execution_count": 60,
   "outputs": [
    {
     "name": "stdout",
     "output_type": "stream",
     "text": [
      "0\n",
      "1\n",
      "2\n",
      "3\n",
      "4\n",
      "5\n",
      "6\n",
      "7\n"
     ]
    },
    {
     "ename": "ValueError",
     "evalue": "The internally computed table of expected frequencies has a zero element at (0, 5).",
     "output_type": "error",
     "traceback": [
      "\u001B[1;31m---------------------------------------------------------------------------\u001B[0m",
      "\u001B[1;31mValueError\u001B[0m                                Traceback (most recent call last)",
      "Cell \u001B[1;32mIn[60], line 5\u001B[0m\n\u001B[0;32m      3\u001B[0m     \u001B[38;5;28mprint\u001B[39m(i)\n\u001B[0;32m      4\u001B[0m     results[i][\u001B[38;5;241m0\u001B[39m] \u001B[38;5;241m=\u001B[39m \u001B[38;5;124mf\u001B[39m\u001B[38;5;124m\"\u001B[39m\u001B[38;5;132;01m{\u001B[39;00m\u001B[38;5;28mstr\u001B[39m(\u001B[38;5;241m2013\u001B[39m\u001B[38;5;241m+\u001B[39mi)\u001B[38;5;132;01m}\u001B[39;00m\u001B[38;5;124m-\u001B[39m\u001B[38;5;132;01m{\u001B[39;00m\u001B[38;5;28mstr\u001B[39m(\u001B[38;5;241m2014\u001B[39m\u001B[38;5;241m+\u001B[39mi)\u001B[38;5;132;01m}\u001B[39;00m\u001B[38;5;124m\"\u001B[39m\n\u001B[1;32m----> 5\u001B[0m     results[i][\u001B[38;5;241m1\u001B[39m] \u001B[38;5;241m=\u001B[39m \u001B[38;5;28mround\u001B[39m(\u001B[43mchi2_contingency\u001B[49m\u001B[43m(\u001B[49m\u001B[43mone_street_pivot\u001B[49m\u001B[38;5;241;43m.\u001B[39;49m\u001B[43miloc\u001B[49m\u001B[43m[\u001B[49m\u001B[43mi\u001B[49m\u001B[43m:\u001B[49m\u001B[43mi\u001B[49m\u001B[38;5;241;43m+\u001B[39;49m\u001B[38;5;241;43m2\u001B[39;49m\u001B[43m]\u001B[49m\u001B[43m)\u001B[49m[\u001B[38;5;241m1\u001B[39m],\u001B[38;5;241m4\u001B[39m)\n\u001B[0;32m      6\u001B[0m results\n",
      "File \u001B[1;32mc:\\users\\ttomn\\onedrive\\desktop\\data-science-transportation-research\\venv\\lib\\site-packages\\scipy\\stats\\contingency.py:276\u001B[0m, in \u001B[0;36mchi2_contingency\u001B[1;34m(observed, correction, lambda_)\u001B[0m\n\u001B[0;32m    272\u001B[0m \u001B[38;5;28;01mif\u001B[39;00m np\u001B[38;5;241m.\u001B[39many(expected \u001B[38;5;241m==\u001B[39m \u001B[38;5;241m0\u001B[39m):\n\u001B[0;32m    273\u001B[0m     \u001B[38;5;66;03m# Include one of the positions where expected is zero in\u001B[39;00m\n\u001B[0;32m    274\u001B[0m     \u001B[38;5;66;03m# the exception message.\u001B[39;00m\n\u001B[0;32m    275\u001B[0m     zeropos \u001B[38;5;241m=\u001B[39m \u001B[38;5;28mlist\u001B[39m(\u001B[38;5;28mzip\u001B[39m(\u001B[38;5;241m*\u001B[39mnp\u001B[38;5;241m.\u001B[39mnonzero(expected \u001B[38;5;241m==\u001B[39m \u001B[38;5;241m0\u001B[39m)))[\u001B[38;5;241m0\u001B[39m]\n\u001B[1;32m--> 276\u001B[0m     \u001B[38;5;28;01mraise\u001B[39;00m \u001B[38;5;167;01mValueError\u001B[39;00m(\u001B[38;5;124m\"\u001B[39m\u001B[38;5;124mThe internally computed table of expected \u001B[39m\u001B[38;5;124m\"\u001B[39m\n\u001B[0;32m    277\u001B[0m                      \u001B[38;5;124m\"\u001B[39m\u001B[38;5;124mfrequencies has a zero element at \u001B[39m\u001B[38;5;132;01m%s\u001B[39;00m\u001B[38;5;124m.\u001B[39m\u001B[38;5;124m\"\u001B[39m \u001B[38;5;241m%\u001B[39m (zeropos,))\n\u001B[0;32m    279\u001B[0m \u001B[38;5;66;03m# The degrees of freedom\u001B[39;00m\n\u001B[0;32m    280\u001B[0m dof \u001B[38;5;241m=\u001B[39m expected\u001B[38;5;241m.\u001B[39msize \u001B[38;5;241m-\u001B[39m \u001B[38;5;28msum\u001B[39m(expected\u001B[38;5;241m.\u001B[39mshape) \u001B[38;5;241m+\u001B[39m expected\u001B[38;5;241m.\u001B[39mndim \u001B[38;5;241m-\u001B[39m \u001B[38;5;241m1\u001B[39m\n",
      "\u001B[1;31mValueError\u001B[0m: The internally computed table of expected frequencies has a zero element at (0, 5)."
     ]
    }
   ],
   "source": [
    "results = [[_ for _ in range(2)] for _ in range(one_street_pivot.shape[0]-1)]\n",
    "for i in range(one_street_pivot.shape[0]-1):\n",
    "    print(i)\n",
    "    results[i][0] = f\"{str(2013+i)}-{str(2014+i)}\"\n",
    "    results[i][1] = round(chi2_contingency(one_street_pivot.iloc[i:i+2])[1],4)\n",
    "results"
   ],
   "metadata": {
    "collapsed": false,
    "pycharm": {
     "name": "#%%\n"
    }
   }
  },
  {
   "cell_type": "code",
   "execution_count": 65,
   "outputs": [
    {
     "data": {
      "text/plain": "(20.70747931207115,\n 0.9526997879651871,\n 33,\n array([[3.86842105, 3.86842105, 3.22368421, 7.09210526, 4.51315789,\n         2.57894737, 3.86842105, 3.86842105, 4.51315789, 3.86842105,\n         2.57894737, 5.15789474],\n        [0.94736842, 0.94736842, 0.78947368, 1.73684211, 1.10526316,\n         0.63157895, 0.94736842, 0.94736842, 1.10526316, 0.94736842,\n         0.63157895, 1.26315789],\n        [0.71052632, 0.71052632, 0.59210526, 1.30263158, 0.82894737,\n         0.47368421, 0.71052632, 0.71052632, 0.82894737, 0.71052632,\n         0.47368421, 0.94736842],\n        [0.47368421, 0.47368421, 0.39473684, 0.86842105, 0.55263158,\n         0.31578947, 0.47368421, 0.47368421, 0.55263158, 0.47368421,\n         0.31578947, 0.63157895]]))"
     },
     "execution_count": 65,
     "metadata": {},
     "output_type": "execute_result"
    }
   ],
   "source": [
    "chi2_contingency(one_street_pivot.iloc[6:11])"
   ],
   "metadata": {
    "collapsed": false,
    "pycharm": {
     "name": "#%%\n"
    }
   }
  },
  {
   "cell_type": "code",
   "execution_count": 72,
   "outputs": [
    {
     "data": {
      "text/plain": "array([[1.71428571, 1.71428571, 0.57142857, 1.14285714, 0.57142857,\n        0.        , 1.14285714, 1.14285714, 0.57142857, 0.57142857,\n        1.14285714, 1.71428571],\n       [1.28571429, 1.28571429, 0.42857143, 0.85714286, 0.42857143,\n        0.        , 0.85714286, 0.85714286, 0.42857143, 0.42857143,\n        0.85714286, 1.28571429]])"
     },
     "execution_count": 72,
     "metadata": {},
     "output_type": "execute_result"
    }
   ],
   "source": [
    "expected_freq(one_street_pivot.iloc[7:9])"
   ],
   "metadata": {
    "collapsed": false,
    "pycharm": {
     "name": "#%%\n"
    }
   }
  },
  {
   "cell_type": "code",
   "execution_count": null,
   "outputs": [],
   "source": [],
   "metadata": {
    "collapsed": false,
    "pycharm": {
     "name": "#%%\n"
    }
   }
  }
 ],
 "metadata": {
  "kernelspec": {
   "display_name": "Python 3",
   "language": "python",
   "name": "python3"
  },
  "language_info": {
   "codemirror_mode": {
    "name": "ipython",
    "version": 2
   },
   "file_extension": ".py",
   "mimetype": "text/x-python",
   "name": "python",
   "nbconvert_exporter": "python",
   "pygments_lexer": "ipython2",
   "version": "2.7.6"
  }
 },
 "nbformat": 4,
 "nbformat_minor": 0
}